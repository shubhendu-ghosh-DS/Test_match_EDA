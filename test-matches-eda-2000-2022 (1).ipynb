{
 "cells": [
  {
   "cell_type": "markdown",
   "id": "7af2797e",
   "metadata": {
    "_cell_guid": "b1076dfc-b9ad-4769-8c92-a6c4dae69d19",
    "_uuid": "8f2839f25d086af736a60e9eeb907d3b93b6e0e5",
    "execution": {
     "iopub.execute_input": "2022-02-07T10:54:51.29482Z",
     "iopub.status.busy": "2022-02-07T10:54:51.294326Z",
     "iopub.status.idle": "2022-02-07T10:54:52.418385Z",
     "shell.execute_reply": "2022-02-07T10:54:52.417683Z",
     "shell.execute_reply.started": "2022-02-07T10:54:51.294727Z"
    },
    "papermill": {
     "duration": 0.063574,
     "end_time": "2022-02-08T06:06:12.328047",
     "exception": false,
     "start_time": "2022-02-08T06:06:12.264473",
     "status": "completed"
    },
    "tags": []
   },
   "source": [
    "# <span style = \"color :blue;\">Introduction</span>\n",
    "### Many of us love watching cricket. All of us have atleast one favorite team and one favorite cricketer. If your country plays competetive cricket them there are high chances that you are a cricket fans too. Cricket is a vastly popular game in south asia, australia, south africa, UK, and Caribbeans. We all love checking our favorite cricketer's stats and our teams stats. It has three different internationally recognized format. Test, ODI & T20I.\n",
    "### This dataset is for particularly <span style = \"color :green;\"><b>Test matches</b> </span>in the present and past century. out of them we'll analyze only the <span style = \"color :red;\"><b>past 23 years of test cricket</b></span> in different nations"
   ]
  },
  {
   "cell_type": "markdown",
   "id": "445a4e69",
   "metadata": {
    "papermill": {
     "duration": 0.06099,
     "end_time": "2022-02-08T06:06:12.456317",
     "exception": false,
     "start_time": "2022-02-08T06:06:12.395327",
     "status": "completed"
    },
    "tags": []
   },
   "source": [
    "# <span style = \"color :blue;\">Importing The libraries</span>"
   ]
  },
  {
   "cell_type": "code",
   "execution_count": 1,
   "id": "332cded5",
   "metadata": {
    "execution": {
     "iopub.execute_input": "2022-02-08T06:06:12.587752Z",
     "iopub.status.busy": "2022-02-08T06:06:12.586664Z",
     "iopub.status.idle": "2022-02-08T06:06:13.729853Z",
     "shell.execute_reply": "2022-02-08T06:06:13.729205Z",
     "shell.execute_reply.started": "2022-02-08T04:38:56.801665Z"
    },
    "papermill": {
     "duration": 1.209516,
     "end_time": "2022-02-08T06:06:13.730022",
     "exception": false,
     "start_time": "2022-02-08T06:06:12.520506",
     "status": "completed"
    },
    "tags": []
   },
   "outputs": [],
   "source": [
    "import numpy as np # linear algebra\n",
    "import pandas as pd # data processing, CSV file I/O (e.g. pd.read_csv)\n",
    "import matplotlib.pyplot as plt\n",
    "import seaborn as sns\n",
    "%matplotlib inline"
   ]
  },
  {
   "cell_type": "markdown",
   "id": "1a569e87",
   "metadata": {
    "papermill": {
     "duration": 0.061266,
     "end_time": "2022-02-08T06:06:13.851754",
     "exception": false,
     "start_time": "2022-02-08T06:06:13.790488",
     "status": "completed"
    },
    "tags": []
   },
   "source": [
    "# <span style = \"color :blue;\">Read the datasets</span>\n",
    "## and merge them into one"
   ]
  },
  {
   "cell_type": "code",
   "execution_count": 2,
   "id": "1af91f8c",
   "metadata": {
    "execution": {
     "iopub.execute_input": "2022-02-08T06:06:13.984976Z",
     "iopub.status.busy": "2022-02-08T06:06:13.984205Z",
     "iopub.status.idle": "2022-02-08T06:06:14.172144Z",
     "shell.execute_reply": "2022-02-08T06:06:14.171563Z",
     "shell.execute_reply.started": "2022-02-08T04:39:04.127028Z"
    },
    "papermill": {
     "duration": 0.259229,
     "end_time": "2022-02-08T06:06:14.172303",
     "exception": false,
     "start_time": "2022-02-08T06:06:13.913074",
     "status": "completed"
    },
    "tags": []
   },
   "outputs": [],
   "source": [
    "df00 = pd.read_csv(\"/kaggle/input/test-matches-played-from-1877-jan-2022/Test_Matches/By_Year/2000.csv\")\n",
    "df01 = pd.read_csv(\"/kaggle/input/test-matches-played-from-1877-jan-2022/Test_Matches/By_Year/2001.csv\")\n",
    "df02 = pd.read_csv(\"/kaggle/input/test-matches-played-from-1877-jan-2022/Test_Matches/By_Year/2002.csv\")\n",
    "df03 = pd.read_csv(\"/kaggle/input/test-matches-played-from-1877-jan-2022/Test_Matches/By_Year/2003.csv\")\n",
    "df04 = pd.read_csv(\"/kaggle/input/test-matches-played-from-1877-jan-2022/Test_Matches/By_Year/2004.csv\")\n",
    "df05 = pd.read_csv(\"/kaggle/input/test-matches-played-from-1877-jan-2022/Test_Matches/By_Year/2005.csv\")\n",
    "df06 = pd.read_csv(\"/kaggle/input/test-matches-played-from-1877-jan-2022/Test_Matches/By_Year/2006.csv\")\n",
    "df07 = pd.read_csv(\"/kaggle/input/test-matches-played-from-1877-jan-2022/Test_Matches/By_Year/2007.csv\")\n",
    "df08 = pd.read_csv(\"/kaggle/input/test-matches-played-from-1877-jan-2022/Test_Matches/By_Year/2008.csv\")\n",
    "df09 = pd.read_csv(\"/kaggle/input/test-matches-played-from-1877-jan-2022/Test_Matches/By_Year/2009.csv\")\n",
    "df10 = pd.read_csv(\"/kaggle/input/test-matches-played-from-1877-jan-2022/Test_Matches/By_Year/2010.csv\")\n",
    "df11 = pd.read_csv(\"/kaggle/input/test-matches-played-from-1877-jan-2022/Test_Matches/By_Year/2011.csv\")\n",
    "df12 = pd.read_csv(\"/kaggle/input/test-matches-played-from-1877-jan-2022/Test_Matches/By_Year/2012.csv\")\n",
    "df13 = pd.read_csv(\"/kaggle/input/test-matches-played-from-1877-jan-2022/Test_Matches/By_Year/2013.csv\")\n",
    "df14 = pd.read_csv(\"/kaggle/input/test-matches-played-from-1877-jan-2022/Test_Matches/By_Year/2014.csv\")\n",
    "df15 = pd.read_csv(\"/kaggle/input/test-matches-played-from-1877-jan-2022/Test_Matches/By_Year/2015.csv\")\n",
    "df16 = pd.read_csv(\"/kaggle/input/test-matches-played-from-1877-jan-2022/Test_Matches/By_Year/2016.csv\")\n",
    "df17 = pd.read_csv(\"/kaggle/input/test-matches-played-from-1877-jan-2022/Test_Matches/By_Year/2017.csv\")\n",
    "df18 = pd.read_csv(\"/kaggle/input/test-matches-played-from-1877-jan-2022/Test_Matches/By_Year/2018.csv\")\n",
    "df19 = pd.read_csv(\"/kaggle/input/test-matches-played-from-1877-jan-2022/Test_Matches/By_Year/2019.csv\")\n",
    "df20 = pd.read_csv(\"/kaggle/input/test-matches-played-from-1877-jan-2022/Test_Matches/By_Year/2020.csv\")\n",
    "df21 = pd.read_csv(\"/kaggle/input/test-matches-played-from-1877-jan-2022/Test_Matches/By_Year/2021.csv\")\n",
    "df22 = pd.read_csv(\"/kaggle/input/test-matches-played-from-1877-jan-2022/Test_Matches/By_Year/2022.csv\")\n"
   ]
  },
  {
   "cell_type": "code",
   "execution_count": 3,
   "id": "8233d5ff",
   "metadata": {
    "execution": {
     "iopub.execute_input": "2022-02-08T06:06:14.299189Z",
     "iopub.status.busy": "2022-02-08T06:06:14.298590Z",
     "iopub.status.idle": "2022-02-08T06:06:14.305975Z",
     "shell.execute_reply": "2022-02-08T06:06:14.306475Z",
     "shell.execute_reply.started": "2022-02-08T04:39:07.559411Z"
    },
    "papermill": {
     "duration": 0.07277,
     "end_time": "2022-02-08T06:06:14.306666",
     "exception": false,
     "start_time": "2022-02-08T06:06:14.233896",
     "status": "completed"
    },
    "tags": []
   },
   "outputs": [],
   "source": [
    "data = pd.concat([df00, df01,df02, df03, df04, df05, df06, df07, df08, df09, df10, df11, df12, df13, df14, df15, df16, df17, df18, df19, df20, df21, df22])"
   ]
  },
  {
   "cell_type": "markdown",
   "id": "ed90ef01",
   "metadata": {
    "papermill": {
     "duration": 0.061436,
     "end_time": "2022-02-08T06:06:14.430133",
     "exception": false,
     "start_time": "2022-02-08T06:06:14.368697",
     "status": "completed"
    },
    "tags": []
   },
   "source": [
    "### Here is our full data"
   ]
  },
  {
   "cell_type": "code",
   "execution_count": 4,
   "id": "f3ad73aa",
   "metadata": {
    "execution": {
     "iopub.execute_input": "2022-02-08T06:06:14.557952Z",
     "iopub.status.busy": "2022-02-08T06:06:14.557192Z",
     "iopub.status.idle": "2022-02-08T06:06:14.578866Z",
     "shell.execute_reply": "2022-02-08T06:06:14.579335Z",
     "shell.execute_reply.started": "2022-02-08T04:39:11.485515Z"
    },
    "papermill": {
     "duration": 0.088335,
     "end_time": "2022-02-08T06:06:14.579506",
     "exception": false,
     "start_time": "2022-02-08T06:06:14.491171",
     "status": "completed"
    },
    "tags": []
   },
   "outputs": [
    {
     "data": {
      "text/html": [
       "<div>\n",
       "<style scoped>\n",
       "    .dataframe tbody tr th:only-of-type {\n",
       "        vertical-align: middle;\n",
       "    }\n",
       "\n",
       "    .dataframe tbody tr th {\n",
       "        vertical-align: top;\n",
       "    }\n",
       "\n",
       "    .dataframe thead th {\n",
       "        text-align: right;\n",
       "    }\n",
       "</style>\n",
       "<table border=\"1\" class=\"dataframe\">\n",
       "  <thead>\n",
       "    <tr style=\"text-align: right;\">\n",
       "      <th></th>\n",
       "      <th>Host Team</th>\n",
       "      <th>Away Team</th>\n",
       "      <th>Winner</th>\n",
       "      <th>Margin</th>\n",
       "      <th>Ground</th>\n",
       "      <th>Match Date</th>\n",
       "    </tr>\n",
       "  </thead>\n",
       "  <tbody>\n",
       "    <tr>\n",
       "      <th>0</th>\n",
       "      <td>Australia</td>\n",
       "      <td>India</td>\n",
       "      <td>Australia</td>\n",
       "      <td>inns &amp; 141 runs</td>\n",
       "      <td>Sydney</td>\n",
       "      <td>Jan 2-4, 2000</td>\n",
       "    </tr>\n",
       "    <tr>\n",
       "      <th>1</th>\n",
       "      <td>South Africa</td>\n",
       "      <td>England</td>\n",
       "      <td>South Africa</td>\n",
       "      <td>inns &amp; 37 runs</td>\n",
       "      <td>Cape Town</td>\n",
       "      <td>Jan 2-5, 2000</td>\n",
       "    </tr>\n",
       "    <tr>\n",
       "      <th>2</th>\n",
       "      <td>South Africa</td>\n",
       "      <td>England</td>\n",
       "      <td>England</td>\n",
       "      <td>2 wickets</td>\n",
       "      <td>Centurion</td>\n",
       "      <td>Jan 14-18, 2000</td>\n",
       "    </tr>\n",
       "    <tr>\n",
       "      <th>3</th>\n",
       "      <td>India</td>\n",
       "      <td>South Africa</td>\n",
       "      <td>South Africa</td>\n",
       "      <td>4 wickets</td>\n",
       "      <td>Mumbai</td>\n",
       "      <td>Feb 24-26, 2000</td>\n",
       "    </tr>\n",
       "    <tr>\n",
       "      <th>4</th>\n",
       "      <td>Pakistan</td>\n",
       "      <td>Sri Lanka</td>\n",
       "      <td>Sri Lanka</td>\n",
       "      <td>2 wickets</td>\n",
       "      <td>Rawalpindi</td>\n",
       "      <td>Feb 26-Mar 1, 2000</td>\n",
       "    </tr>\n",
       "    <tr>\n",
       "      <th>...</th>\n",
       "      <td>...</td>\n",
       "      <td>...</td>\n",
       "      <td>...</td>\n",
       "      <td>...</td>\n",
       "      <td>...</td>\n",
       "      <td>...</td>\n",
       "    </tr>\n",
       "    <tr>\n",
       "      <th>1</th>\n",
       "      <td>South Africa</td>\n",
       "      <td>India</td>\n",
       "      <td>South Africa</td>\n",
       "      <td>7 wickets</td>\n",
       "      <td>Johannesburg</td>\n",
       "      <td>Jan 3-6, 2022</td>\n",
       "    </tr>\n",
       "    <tr>\n",
       "      <th>2</th>\n",
       "      <td>Australia</td>\n",
       "      <td>England</td>\n",
       "      <td>drawn</td>\n",
       "      <td>NaN</td>\n",
       "      <td>Sydney</td>\n",
       "      <td>Jan 5-9, 2022</td>\n",
       "    </tr>\n",
       "    <tr>\n",
       "      <th>3</th>\n",
       "      <td>New Zealand</td>\n",
       "      <td>Bangladesh</td>\n",
       "      <td>New Zealand</td>\n",
       "      <td>inns &amp; 117 runs</td>\n",
       "      <td>Christchurch</td>\n",
       "      <td>Jan 9-11, 2022</td>\n",
       "    </tr>\n",
       "    <tr>\n",
       "      <th>4</th>\n",
       "      <td>South Africa</td>\n",
       "      <td>India</td>\n",
       "      <td>South Africa</td>\n",
       "      <td>7 wickets</td>\n",
       "      <td>Cape Town</td>\n",
       "      <td>Jan 11-14, 2022</td>\n",
       "    </tr>\n",
       "    <tr>\n",
       "      <th>5</th>\n",
       "      <td>Australia</td>\n",
       "      <td>England</td>\n",
       "      <td>Australia</td>\n",
       "      <td>146 runs</td>\n",
       "      <td>Hobart</td>\n",
       "      <td>Jan 14-16, 2022</td>\n",
       "    </tr>\n",
       "  </tbody>\n",
       "</table>\n",
       "<p>970 rows × 6 columns</p>\n",
       "</div>"
      ],
      "text/plain": [
       "       Host Team     Away Team        Winner           Margin        Ground  \\\n",
       "0      Australia         India     Australia  inns & 141 runs        Sydney   \n",
       "1   South Africa       England  South Africa   inns & 37 runs     Cape Town   \n",
       "2   South Africa       England       England        2 wickets     Centurion   \n",
       "3          India  South Africa  South Africa        4 wickets        Mumbai   \n",
       "4       Pakistan     Sri Lanka     Sri Lanka        2 wickets    Rawalpindi   \n",
       "..           ...           ...           ...              ...           ...   \n",
       "1   South Africa         India  South Africa        7 wickets  Johannesburg   \n",
       "2      Australia       England         drawn              NaN        Sydney   \n",
       "3    New Zealand    Bangladesh   New Zealand  inns & 117 runs  Christchurch   \n",
       "4   South Africa         India  South Africa        7 wickets     Cape Town   \n",
       "5      Australia       England     Australia         146 runs        Hobart   \n",
       "\n",
       "            Match Date  \n",
       "0        Jan 2-4, 2000  \n",
       "1        Jan 2-5, 2000  \n",
       "2      Jan 14-18, 2000  \n",
       "3      Feb 24-26, 2000  \n",
       "4   Feb 26-Mar 1, 2000  \n",
       "..                 ...  \n",
       "1        Jan 3-6, 2022  \n",
       "2        Jan 5-9, 2022  \n",
       "3       Jan 9-11, 2022  \n",
       "4      Jan 11-14, 2022  \n",
       "5      Jan 14-16, 2022  \n",
       "\n",
       "[970 rows x 6 columns]"
      ]
     },
     "execution_count": 4,
     "metadata": {},
     "output_type": "execute_result"
    }
   ],
   "source": [
    "data"
   ]
  },
  {
   "cell_type": "markdown",
   "id": "981f2590",
   "metadata": {
    "papermill": {
     "duration": 0.062769,
     "end_time": "2022-02-08T06:06:14.704282",
     "exception": false,
     "start_time": "2022-02-08T06:06:14.641513",
     "status": "completed"
    },
    "tags": []
   },
   "source": [
    "# <span style = \"color :blue;\">Basic data explorations</span>"
   ]
  },
  {
   "cell_type": "code",
   "execution_count": 5,
   "id": "09b104b5",
   "metadata": {
    "execution": {
     "iopub.execute_input": "2022-02-08T06:06:14.834058Z",
     "iopub.status.busy": "2022-02-08T06:06:14.833395Z",
     "iopub.status.idle": "2022-02-08T06:06:14.837429Z",
     "shell.execute_reply": "2022-02-08T06:06:14.837880Z",
     "shell.execute_reply.started": "2022-02-08T04:39:15.400123Z"
    },
    "papermill": {
     "duration": 0.070091,
     "end_time": "2022-02-08T06:06:14.838045",
     "exception": false,
     "start_time": "2022-02-08T06:06:14.767954",
     "status": "completed"
    },
    "tags": []
   },
   "outputs": [
    {
     "data": {
      "text/plain": [
       "(970, 6)"
      ]
     },
     "execution_count": 5,
     "metadata": {},
     "output_type": "execute_result"
    }
   ],
   "source": [
    "data.shape"
   ]
  },
  {
   "cell_type": "markdown",
   "id": "2b0511dc",
   "metadata": {
    "papermill": {
     "duration": 0.061007,
     "end_time": "2022-02-08T06:06:14.961162",
     "exception": false,
     "start_time": "2022-02-08T06:06:14.900155",
     "status": "completed"
    },
    "tags": []
   },
   "source": [
    "### So we have 970 rows and only six columns"
   ]
  },
  {
   "cell_type": "code",
   "execution_count": 6,
   "id": "760ad640",
   "metadata": {
    "execution": {
     "iopub.execute_input": "2022-02-08T06:06:15.089367Z",
     "iopub.status.busy": "2022-02-08T06:06:15.088430Z",
     "iopub.status.idle": "2022-02-08T06:06:15.111993Z",
     "shell.execute_reply": "2022-02-08T06:06:15.112785Z",
     "shell.execute_reply.started": "2022-02-08T04:39:18.319814Z"
    },
    "papermill": {
     "duration": 0.0899,
     "end_time": "2022-02-08T06:06:15.113038",
     "exception": false,
     "start_time": "2022-02-08T06:06:15.023138",
     "status": "completed"
    },
    "tags": []
   },
   "outputs": [
    {
     "name": "stdout",
     "output_type": "stream",
     "text": [
      "<class 'pandas.core.frame.DataFrame'>\n",
      "Int64Index: 970 entries, 0 to 5\n",
      "Data columns (total 6 columns):\n",
      " #   Column      Non-Null Count  Dtype \n",
      "---  ------      --------------  ----- \n",
      " 0   Host Team   970 non-null    object\n",
      " 1   Away Team   970 non-null    object\n",
      " 2   Winner      970 non-null    object\n",
      " 3   Margin      759 non-null    object\n",
      " 4   Ground      970 non-null    object\n",
      " 5   Match Date  970 non-null    object\n",
      "dtypes: object(6)\n",
      "memory usage: 53.0+ KB\n"
     ]
    }
   ],
   "source": [
    "data.info()\n",
    "    "
   ]
  },
  {
   "cell_type": "markdown",
   "id": "4dc8342b",
   "metadata": {
    "papermill": {
     "duration": 0.062521,
     "end_time": "2022-02-08T06:06:15.242643",
     "exception": false,
     "start_time": "2022-02-08T06:06:15.180122",
     "status": "completed"
    },
    "tags": []
   },
   "source": [
    "### All of them are categorical variables"
   ]
  },
  {
   "cell_type": "code",
   "execution_count": 7,
   "id": "47bac2e6",
   "metadata": {
    "execution": {
     "iopub.execute_input": "2022-02-08T06:06:15.371981Z",
     "iopub.status.busy": "2022-02-08T06:06:15.371304Z",
     "iopub.status.idle": "2022-02-08T06:06:15.375593Z",
     "shell.execute_reply": "2022-02-08T06:06:15.376150Z",
     "shell.execute_reply.started": "2022-02-08T04:39:22.590361Z"
    },
    "papermill": {
     "duration": 0.069795,
     "end_time": "2022-02-08T06:06:15.376326",
     "exception": false,
     "start_time": "2022-02-08T06:06:15.306531",
     "status": "completed"
    },
    "tags": []
   },
   "outputs": [
    {
     "data": {
      "text/plain": [
       "Index(['Host Team', 'Away Team', 'Winner', 'Margin', 'Ground', 'Match Date'], dtype='object')"
      ]
     },
     "execution_count": 7,
     "metadata": {},
     "output_type": "execute_result"
    }
   ],
   "source": [
    "data.columns"
   ]
  },
  {
   "cell_type": "markdown",
   "id": "c932c6fc",
   "metadata": {
    "papermill": {
     "duration": 0.061793,
     "end_time": "2022-02-08T06:06:15.500705",
     "exception": false,
     "start_time": "2022-02-08T06:06:15.438912",
     "status": "completed"
    },
    "tags": []
   },
   "source": [
    "### Now let's see how many unique values each coulmns contains\n",
    "### This is for only Host Team and Away Team columns, we want to see how many teams we will be dealing with"
   ]
  },
  {
   "cell_type": "code",
   "execution_count": 8,
   "id": "db5f89d6",
   "metadata": {
    "execution": {
     "iopub.execute_input": "2022-02-08T06:06:15.629310Z",
     "iopub.status.busy": "2022-02-08T06:06:15.628700Z",
     "iopub.status.idle": "2022-02-08T06:06:15.637961Z",
     "shell.execute_reply": "2022-02-08T06:06:15.637150Z",
     "shell.execute_reply.started": "2022-02-08T04:39:25.790051Z"
    },
    "papermill": {
     "duration": 0.073957,
     "end_time": "2022-02-08T06:06:15.638130",
     "exception": false,
     "start_time": "2022-02-08T06:06:15.564173",
     "status": "completed"
    },
    "tags": []
   },
   "outputs": [
    {
     "data": {
      "text/plain": [
       "Host Team      12\n",
       "Away Team      13\n",
       "Winner         12\n",
       "Margin        349\n",
       "Ground         88\n",
       "Match Date    929\n",
       "dtype: int64"
      ]
     },
     "execution_count": 8,
     "metadata": {},
     "output_type": "execute_result"
    }
   ],
   "source": [
    "data.nunique(axis = 0)"
   ]
  },
  {
   "cell_type": "markdown",
   "id": "988deaf8",
   "metadata": {
    "papermill": {
     "duration": 0.064196,
     "end_time": "2022-02-08T06:06:15.766971",
     "exception": false,
     "start_time": "2022-02-08T06:06:15.702775",
     "status": "completed"
    },
    "tags": []
   },
   "source": [
    "### We can see there is one more away teams than host team, we will tackle this later"
   ]
  },
  {
   "cell_type": "markdown",
   "id": "e52e9afa",
   "metadata": {
    "papermill": {
     "duration": 0.064368,
     "end_time": "2022-02-08T06:06:15.895407",
     "exception": false,
     "start_time": "2022-02-08T06:06:15.831039",
     "status": "completed"
    },
    "tags": []
   },
   "source": [
    "### although this doesn't make much sense but...."
   ]
  },
  {
   "cell_type": "code",
   "execution_count": 9,
   "id": "907a9ce4",
   "metadata": {
    "execution": {
     "iopub.execute_input": "2022-02-08T06:06:16.029023Z",
     "iopub.status.busy": "2022-02-08T06:06:16.024984Z",
     "iopub.status.idle": "2022-02-08T06:06:16.047127Z",
     "shell.execute_reply": "2022-02-08T06:06:16.046603Z",
     "shell.execute_reply.started": "2022-02-08T04:39:32.281020Z"
    },
    "papermill": {
     "duration": 0.087848,
     "end_time": "2022-02-08T06:06:16.047275",
     "exception": false,
     "start_time": "2022-02-08T06:06:15.959427",
     "status": "completed"
    },
    "tags": []
   },
   "outputs": [
    {
     "data": {
      "text/html": [
       "<div>\n",
       "<style scoped>\n",
       "    .dataframe tbody tr th:only-of-type {\n",
       "        vertical-align: middle;\n",
       "    }\n",
       "\n",
       "    .dataframe tbody tr th {\n",
       "        vertical-align: top;\n",
       "    }\n",
       "\n",
       "    .dataframe thead th {\n",
       "        text-align: right;\n",
       "    }\n",
       "</style>\n",
       "<table border=\"1\" class=\"dataframe\">\n",
       "  <thead>\n",
       "    <tr style=\"text-align: right;\">\n",
       "      <th></th>\n",
       "      <th>Host Team</th>\n",
       "      <th>Away Team</th>\n",
       "      <th>Winner</th>\n",
       "      <th>Margin</th>\n",
       "      <th>Ground</th>\n",
       "      <th>Match Date</th>\n",
       "    </tr>\n",
       "  </thead>\n",
       "  <tbody>\n",
       "    <tr>\n",
       "      <th>count</th>\n",
       "      <td>970</td>\n",
       "      <td>970</td>\n",
       "      <td>970</td>\n",
       "      <td>759</td>\n",
       "      <td>970</td>\n",
       "      <td>970</td>\n",
       "    </tr>\n",
       "    <tr>\n",
       "      <th>unique</th>\n",
       "      <td>12</td>\n",
       "      <td>13</td>\n",
       "      <td>12</td>\n",
       "      <td>349</td>\n",
       "      <td>88</td>\n",
       "      <td>929</td>\n",
       "    </tr>\n",
       "    <tr>\n",
       "      <th>top</th>\n",
       "      <td>England</td>\n",
       "      <td>England</td>\n",
       "      <td>drawn</td>\n",
       "      <td>10 wickets</td>\n",
       "      <td>Lord's</td>\n",
       "      <td>Dec 17-20, 2014</td>\n",
       "    </tr>\n",
       "    <tr>\n",
       "      <th>freq</th>\n",
       "      <td>149</td>\n",
       "      <td>132</td>\n",
       "      <td>210</td>\n",
       "      <td>44</td>\n",
       "      <td>43</td>\n",
       "      <td>2</td>\n",
       "    </tr>\n",
       "  </tbody>\n",
       "</table>\n",
       "</div>"
      ],
      "text/plain": [
       "       Host Team Away Team Winner      Margin  Ground       Match Date\n",
       "count        970       970    970         759     970              970\n",
       "unique        12        13     12         349      88              929\n",
       "top      England   England  drawn  10 wickets  Lord's  Dec 17-20, 2014\n",
       "freq         149       132    210          44      43                2"
      ]
     },
     "execution_count": 9,
     "metadata": {},
     "output_type": "execute_result"
    }
   ],
   "source": [
    "data.describe()"
   ]
  },
  {
   "cell_type": "markdown",
   "id": "22b0524a",
   "metadata": {
    "papermill": {
     "duration": 0.062005,
     "end_time": "2022-02-08T06:06:16.173595",
     "exception": false,
     "start_time": "2022-02-08T06:06:16.111590",
     "status": "completed"
    },
    "tags": []
   },
   "source": [
    "### for our convenience let's rename the coulumns "
   ]
  },
  {
   "cell_type": "code",
   "execution_count": 10,
   "id": "26abc314",
   "metadata": {
    "execution": {
     "iopub.execute_input": "2022-02-08T06:06:16.309419Z",
     "iopub.status.busy": "2022-02-08T06:06:16.308736Z",
     "iopub.status.idle": "2022-02-08T06:06:16.311136Z",
     "shell.execute_reply": "2022-02-08T06:06:16.311532Z",
     "shell.execute_reply.started": "2022-02-08T04:39:37.440319Z"
    },
    "papermill": {
     "duration": 0.075022,
     "end_time": "2022-02-08T06:06:16.311721",
     "exception": false,
     "start_time": "2022-02-08T06:06:16.236699",
     "status": "completed"
    },
    "tags": []
   },
   "outputs": [],
   "source": [
    "data = data.rename({'Host Team':'host_team', 'Away Team':'away_team', 'Winner':'winner', 'Margin':'margin', 'Ground':'ground', 'Match Date':'match_date'}, axis = 1)"
   ]
  },
  {
   "cell_type": "markdown",
   "id": "3ca7816a",
   "metadata": {
    "papermill": {
     "duration": 0.062756,
     "end_time": "2022-02-08T06:06:16.439097",
     "exception": false,
     "start_time": "2022-02-08T06:06:16.376341",
     "status": "completed"
    },
    "tags": []
   },
   "source": [
    "### Now we'll look for that extra away team"
   ]
  },
  {
   "cell_type": "code",
   "execution_count": 11,
   "id": "40e997a7",
   "metadata": {
    "execution": {
     "iopub.execute_input": "2022-02-08T06:06:16.570952Z",
     "iopub.status.busy": "2022-02-08T06:06:16.570276Z",
     "iopub.status.idle": "2022-02-08T06:06:16.575350Z",
     "shell.execute_reply": "2022-02-08T06:06:16.575789Z",
     "shell.execute_reply.started": "2022-02-08T04:39:42.649976Z"
    },
    "papermill": {
     "duration": 0.073925,
     "end_time": "2022-02-08T06:06:16.575980",
     "exception": false,
     "start_time": "2022-02-08T06:06:16.502055",
     "status": "completed"
    },
    "tags": []
   },
   "outputs": [
    {
     "data": {
      "text/plain": [
       "array(['Australia', 'South Africa', 'India', 'Pakistan', 'New Zealand',\n",
       "       'West Indies', 'England', 'Sri Lanka', 'Zimbabwe', 'Bangladesh',\n",
       "       'Ireland', 'Afghanistan'], dtype=object)"
      ]
     },
     "execution_count": 11,
     "metadata": {},
     "output_type": "execute_result"
    }
   ],
   "source": [
    "data.host_team.unique()"
   ]
  },
  {
   "cell_type": "code",
   "execution_count": 12,
   "id": "77c6fcc4",
   "metadata": {
    "execution": {
     "iopub.execute_input": "2022-02-08T06:06:16.712294Z",
     "iopub.status.busy": "2022-02-08T06:06:16.709268Z",
     "iopub.status.idle": "2022-02-08T06:06:16.715295Z",
     "shell.execute_reply": "2022-02-08T06:06:16.715845Z",
     "shell.execute_reply.started": "2022-02-08T04:39:45.524696Z"
    },
    "papermill": {
     "duration": 0.076374,
     "end_time": "2022-02-08T06:06:16.716022",
     "exception": false,
     "start_time": "2022-02-08T06:06:16.639648",
     "status": "completed"
    },
    "tags": []
   },
   "outputs": [
    {
     "data": {
      "text/plain": [
       "array(['India', 'England', 'South Africa', 'Sri Lanka', 'Australia',\n",
       "       'Zimbabwe', 'Pakistan', 'West Indies', 'New Zealand', 'Bangladesh',\n",
       "       'ICC World XI', 'Afghanistan', 'Ireland'], dtype=object)"
      ]
     },
     "execution_count": 12,
     "metadata": {},
     "output_type": "execute_result"
    }
   ],
   "source": [
    "data.away_team.unique()"
   ]
  },
  {
   "cell_type": "markdown",
   "id": "6baeea54",
   "metadata": {
    "papermill": {
     "duration": 0.065024,
     "end_time": "2022-02-08T06:06:16.846377",
     "exception": false,
     "start_time": "2022-02-08T06:06:16.781353",
     "status": "completed"
    },
    "tags": []
   },
   "source": [
    "### OH.. ICC sometimes make a <span style = \"color:green;\">world 11</span> team to play against a particular team. \n",
    "### This ritual is rare now"
   ]
  },
  {
   "cell_type": "markdown",
   "id": "a928df5a",
   "metadata": {
    "papermill": {
     "duration": 0.063246,
     "end_time": "2022-02-08T06:06:16.974526",
     "exception": false,
     "start_time": "2022-02-08T06:06:16.911280",
     "status": "completed"
    },
    "tags": []
   },
   "source": [
    "# <span style = \"color :blue;\">EDA</span>\n",
    "### which team hosted how many matches in these years"
   ]
  },
  {
   "cell_type": "code",
   "execution_count": 13,
   "id": "b5745179",
   "metadata": {
    "execution": {
     "iopub.execute_input": "2022-02-08T06:06:17.105069Z",
     "iopub.status.busy": "2022-02-08T06:06:17.104424Z",
     "iopub.status.idle": "2022-02-08T06:06:17.111847Z",
     "shell.execute_reply": "2022-02-08T06:06:17.111348Z",
     "shell.execute_reply.started": "2022-02-08T04:39:54.725580Z"
    },
    "papermill": {
     "duration": 0.074303,
     "end_time": "2022-02-08T06:06:17.111989",
     "exception": false,
     "start_time": "2022-02-08T06:06:17.037686",
     "status": "completed"
    },
    "tags": []
   },
   "outputs": [
    {
     "data": {
      "text/plain": [
       "England         149\n",
       "Australia       124\n",
       "South Africa    110\n",
       "Sri Lanka       105\n",
       "India           104\n",
       "West Indies      99\n",
       "New Zealand      90\n",
       "Pakistan         76\n",
       "Bangladesh       67\n",
       "Zimbabwe         41\n",
       "Afghanistan       4\n",
       "Ireland           1\n",
       "Name: host_team, dtype: int64"
      ]
     },
     "execution_count": 13,
     "metadata": {},
     "output_type": "execute_result"
    }
   ],
   "source": [
    "data['host_team'].value_counts()"
   ]
  },
  {
   "cell_type": "markdown",
   "id": "a27c3f89",
   "metadata": {
    "papermill": {
     "duration": 0.064515,
     "end_time": "2022-02-08T06:06:17.241985",
     "exception": false,
     "start_time": "2022-02-08T06:06:17.177470",
     "status": "completed"
    },
    "tags": []
   },
   "source": [
    "### Countplot of number of matches hosted"
   ]
  },
  {
   "cell_type": "code",
   "execution_count": 14,
   "id": "2d6f5e63",
   "metadata": {
    "execution": {
     "iopub.execute_input": "2022-02-08T06:06:17.376158Z",
     "iopub.status.busy": "2022-02-08T06:06:17.375084Z",
     "iopub.status.idle": "2022-02-08T06:06:17.610352Z",
     "shell.execute_reply": "2022-02-08T06:06:17.609881Z",
     "shell.execute_reply.started": "2022-02-08T04:39:59.349521Z"
    },
    "papermill": {
     "duration": 0.303965,
     "end_time": "2022-02-08T06:06:17.610489",
     "exception": false,
     "start_time": "2022-02-08T06:06:17.306524",
     "status": "completed"
    },
    "tags": []
   },
   "outputs": [
    {
     "data": {
      "image/png": "[encoded data removed]",
      "text/plain": [
       "<Figure size 1080x576 with 1 Axes>"
      ]
     },
     "metadata": {
      "needs_background": "light"
     },
     "output_type": "display_data"
    }
   ],
   "source": [
    "plt.figure(figsize = (15,8))\n",
    "sns.countplot(x = 'host_team', data = data)\n",
    "plt.show()"
   ]
  },
  {
   "cell_type": "markdown",
   "id": "7b8e0f92",
   "metadata": {
    "papermill": {
     "duration": 0.067134,
     "end_time": "2022-02-08T06:06:17.743297",
     "exception": false,
     "start_time": "2022-02-08T06:06:17.676163",
     "status": "completed"
    },
    "tags": []
   },
   "source": [
    "### England hosted the most number of test matches, 149 and ireland, afganistan and zimbabwe hosted the least "
   ]
  },
  {
   "cell_type": "markdown",
   "id": "a5b643bd",
   "metadata": {
    "papermill": {
     "duration": 0.066114,
     "end_time": "2022-02-08T06:06:17.874903",
     "exception": false,
     "start_time": "2022-02-08T06:06:17.808789",
     "status": "completed"
    },
    "tags": []
   },
   "source": [
    "## Now let's see which team toured the most"
   ]
  },
  {
   "cell_type": "code",
   "execution_count": 15,
   "id": "efb057b9",
   "metadata": {
    "execution": {
     "iopub.execute_input": "2022-02-08T06:06:18.011628Z",
     "iopub.status.busy": "2022-02-08T06:06:18.010768Z",
     "iopub.status.idle": "2022-02-08T06:06:18.014275Z",
     "shell.execute_reply": "2022-02-08T06:06:18.013814Z",
     "shell.execute_reply.started": "2022-02-08T04:40:03.470139Z"
    },
    "papermill": {
     "duration": 0.07481,
     "end_time": "2022-02-08T06:06:18.014412",
     "exception": false,
     "start_time": "2022-02-08T06:06:17.939602",
     "status": "completed"
    },
    "tags": []
   },
   "outputs": [
    {
     "data": {
      "text/plain": [
       "England         132\n",
       "India           126\n",
       "Australia       113\n",
       "West Indies     107\n",
       "Pakistan        105\n",
       "South Africa    100\n",
       "Sri Lanka        99\n",
       "New Zealand      87\n",
       "Bangladesh       61\n",
       "Zimbabwe         35\n",
       "Afghanistan       2\n",
       "Ireland           2\n",
       "ICC World XI      1\n",
       "Name: away_team, dtype: int64"
      ]
     },
     "execution_count": 15,
     "metadata": {},
     "output_type": "execute_result"
    }
   ],
   "source": [
    "data['away_team'].value_counts()"
   ]
  },
  {
   "cell_type": "code",
   "execution_count": 16,
   "id": "bc032fa2",
   "metadata": {
    "execution": {
     "iopub.execute_input": "2022-02-08T06:06:18.156262Z",
     "iopub.status.busy": "2022-02-08T06:06:18.155487Z",
     "iopub.status.idle": "2022-02-08T06:06:18.336224Z",
     "shell.execute_reply": "2022-02-08T06:06:18.335584Z",
     "shell.execute_reply.started": "2022-02-08T04:40:07.240038Z"
    },
    "papermill": {
     "duration": 0.255936,
     "end_time": "2022-02-08T06:06:18.336361",
     "exception": false,
     "start_time": "2022-02-08T06:06:18.080425",
     "status": "completed"
    },
    "tags": []
   },
   "outputs": [
    {
     "data": {
      "image/png": "[encoded data removed]",
      "text/plain": [
       "<Figure size 1080x576 with 1 Axes>"
      ]
     },
     "metadata": {
      "needs_background": "light"
     },
     "output_type": "display_data"
    }
   ],
   "source": [
    "plt.figure(figsize = (15,8))\n",
    "sns.countplot(x = 'away_team', data = data)\n",
    "plt.show()"
   ]
  },
  {
   "cell_type": "markdown",
   "id": "eb677188",
   "metadata": {
    "papermill": {
     "duration": 0.066999,
     "end_time": "2022-02-08T06:06:18.468355",
     "exception": false,
     "start_time": "2022-02-08T06:06:18.401356",
     "status": "completed"
    },
    "tags": []
   },
   "source": [
    "### India and England tops the list"
   ]
  },
  {
   "cell_type": "markdown",
   "id": "e673129f",
   "metadata": {
    "papermill": {
     "duration": 0.06764,
     "end_time": "2022-02-08T06:06:18.603909",
     "exception": false,
     "start_time": "2022-02-08T06:06:18.536269",
     "status": "completed"
    },
    "tags": []
   },
   "source": [
    "## Now let's see which teams played how many matches"
   ]
  },
  {
   "cell_type": "code",
   "execution_count": 17,
   "id": "245aff7d",
   "metadata": {
    "execution": {
     "iopub.execute_input": "2022-02-08T06:06:18.744022Z",
     "iopub.status.busy": "2022-02-08T06:06:18.743206Z",
     "iopub.status.idle": "2022-02-08T06:06:18.762756Z",
     "shell.execute_reply": "2022-02-08T06:06:18.761575Z",
     "shell.execute_reply.started": "2022-02-08T04:40:15.080890Z"
    },
    "papermill": {
     "duration": 0.092193,
     "end_time": "2022-02-08T06:06:18.762972",
     "exception": false,
     "start_time": "2022-02-08T06:06:18.670779",
     "status": "completed"
    },
    "tags": []
   },
   "outputs": [],
   "source": [
    "total_matches = {}\n",
    "for matches, names in enumerate(data['away_team'].value_counts().index.tolist()):\n",
    "    total_matches[names] = data['away_team'].value_counts()[matches]\n",
    "\n",
    "total_matches_home = {}\n",
    "for matches, names in enumerate(data['host_team'].value_counts().index.tolist()):\n",
    "    total_matches_home[names] = data['host_team'].value_counts()[matches]\n",
    "    "
   ]
  },
  {
   "cell_type": "code",
   "execution_count": 18,
   "id": "c46aef15",
   "metadata": {
    "execution": {
     "iopub.execute_input": "2022-02-08T06:06:18.900681Z",
     "iopub.status.busy": "2022-02-08T06:06:18.900026Z",
     "iopub.status.idle": "2022-02-08T06:06:18.905104Z",
     "shell.execute_reply": "2022-02-08T06:06:18.905604Z",
     "shell.execute_reply.started": "2022-02-08T04:40:24.710837Z"
    },
    "papermill": {
     "duration": 0.074582,
     "end_time": "2022-02-08T06:06:18.905792",
     "exception": false,
     "start_time": "2022-02-08T06:06:18.831210",
     "status": "completed"
    },
    "tags": []
   },
   "outputs": [
    {
     "name": "stdout",
     "output_type": "stream",
     "text": [
      "{'England': 281, 'India': 230, 'Australia': 237, 'West Indies': 206, 'Pakistan': 181, 'South Africa': 210, 'Sri Lanka': 204, 'New Zealand': 177, 'Bangladesh': 128, 'Zimbabwe': 76, 'Afghanistan': 6, 'Ireland': 3, 'ICC World XI': 1}\n"
     ]
    }
   ],
   "source": [
    "for key in total_matches:\n",
    "    if key in total_matches_home:\n",
    "        total_matches[key] = total_matches[key] + total_matches_home[key]\n",
    "    else:\n",
    "        pass\n",
    "print(total_matches)"
   ]
  },
  {
   "cell_type": "code",
   "execution_count": 19,
   "id": "8d14715d",
   "metadata": {
    "execution": {
     "iopub.execute_input": "2022-02-08T06:06:19.054463Z",
     "iopub.status.busy": "2022-02-08T06:06:19.053767Z",
     "iopub.status.idle": "2022-02-08T06:06:19.227057Z",
     "shell.execute_reply": "2022-02-08T06:06:19.226188Z",
     "shell.execute_reply.started": "2022-02-08T04:40:32.790092Z"
    },
    "papermill": {
     "duration": 0.255212,
     "end_time": "2022-02-08T06:06:19.227215",
     "exception": false,
     "start_time": "2022-02-08T06:06:18.972003",
     "status": "completed"
    },
    "tags": []
   },
   "outputs": [
    {
     "data": {
      "image/png": "[encoded data removed]",
      "text/plain": [
       "<Figure size 1080x576 with 1 Axes>"
      ]
     },
     "metadata": {
      "needs_background": "light"
     },
     "output_type": "display_data"
    }
   ],
   "source": [
    "teams = list(total_matches.keys())\n",
    "matches = list(total_matches.values())\n",
    "plt.figure(figsize=(15,8))\n",
    "plt.bar(teams, matches, color ='m')\n",
    "plt.show()"
   ]
  },
  {
   "cell_type": "markdown",
   "id": "063b2a80",
   "metadata": {
    "papermill": {
     "duration": 0.067596,
     "end_time": "2022-02-08T06:06:19.362208",
     "exception": false,
     "start_time": "2022-02-08T06:06:19.294612",
     "status": "completed"
    },
    "tags": []
   },
   "source": [
    "## we can see clearly the differences between the teams.\n",
    "### England plays the most Test matches,\n",
    "### Afganistan and Ireland haven't always been in the ICC test playing nation list, so they actually don't count"
   ]
  },
  {
   "cell_type": "markdown",
   "id": "c926c457",
   "metadata": {
    "papermill": {
     "duration": 0.066198,
     "end_time": "2022-02-08T06:06:19.496952",
     "exception": false,
     "start_time": "2022-02-08T06:06:19.430754",
     "status": "completed"
    },
    "tags": []
   },
   "source": [
    "# <span style = \"color :blue;\">Data Cleaning</span>\n",
    "## <span style = \"color : red;\">I should have been done this earlier</span>\n",
    "## <span style = \"color : red;\"> Apologies!</span>"
   ]
  },
  {
   "cell_type": "code",
   "execution_count": 20,
   "id": "a773ceac",
   "metadata": {
    "execution": {
     "iopub.execute_input": "2022-02-08T06:06:19.645104Z",
     "iopub.status.busy": "2022-02-08T06:06:19.644329Z",
     "iopub.status.idle": "2022-02-08T06:06:19.646999Z",
     "shell.execute_reply": "2022-02-08T06:06:19.647535Z",
     "shell.execute_reply.started": "2022-02-08T04:40:38.015090Z"
    },
    "papermill": {
     "duration": 0.083844,
     "end_time": "2022-02-08T06:06:19.647710",
     "exception": false,
     "start_time": "2022-02-08T06:06:19.563866",
     "status": "completed"
    },
    "tags": []
   },
   "outputs": [
    {
     "data": {
      "text/plain": [
       "host_team       0\n",
       "away_team       0\n",
       "winner          0\n",
       "margin        211\n",
       "ground          0\n",
       "match_date      0\n",
       "dtype: int64"
      ]
     },
     "execution_count": 20,
     "metadata": {},
     "output_type": "execute_result"
    }
   ],
   "source": [
    "data.isnull().sum()"
   ]
  },
  {
   "cell_type": "markdown",
   "id": "1f95ae67",
   "metadata": {
    "papermill": {
     "duration": 0.070615,
     "end_time": "2022-02-08T06:06:19.786218",
     "exception": false,
     "start_time": "2022-02-08T06:06:19.715603",
     "status": "completed"
    },
    "tags": []
   },
   "source": [
    "### margin column has 211 null values. we know what it is for. it'sn for the drawn matches"
   ]
  },
  {
   "cell_type": "markdown",
   "id": "e6302529",
   "metadata": {
    "papermill": {
     "duration": 0.068771,
     "end_time": "2022-02-08T06:06:19.924023",
     "exception": false,
     "start_time": "2022-02-08T06:06:19.855252",
     "status": "completed"
    },
    "tags": []
   },
   "source": [
    "### we will fill them with zero"
   ]
  },
  {
   "cell_type": "code",
   "execution_count": 21,
   "id": "19dd5abd",
   "metadata": {
    "execution": {
     "iopub.execute_input": "2022-02-08T06:06:20.060252Z",
     "iopub.status.busy": "2022-02-08T06:06:20.059555Z",
     "iopub.status.idle": "2022-02-08T06:06:20.065704Z",
     "shell.execute_reply": "2022-02-08T06:06:20.066173Z",
     "shell.execute_reply.started": "2022-02-08T04:41:53.676817Z"
    },
    "papermill": {
     "duration": 0.076376,
     "end_time": "2022-02-08T06:06:20.066336",
     "exception": false,
     "start_time": "2022-02-08T06:06:19.989960",
     "status": "completed"
    },
    "tags": []
   },
   "outputs": [
    {
     "data": {
      "text/plain": [
       "0"
      ]
     },
     "execution_count": 21,
     "metadata": {},
     "output_type": "execute_result"
    }
   ],
   "source": [
    "data['margin'] = data['margin'].fillna(0)\n",
    "data['margin'].isnull().sum()"
   ]
  },
  {
   "cell_type": "markdown",
   "id": "68df70b4",
   "metadata": {
    "papermill": {
     "duration": 0.067521,
     "end_time": "2022-02-08T06:06:20.201444",
     "exception": false,
     "start_time": "2022-02-08T06:06:20.133923",
     "status": "completed"
    },
    "tags": []
   },
   "source": [
    "## Now we'll add a new coulmn, to see if there was a win lose result or it was drawn"
   ]
  },
  {
   "cell_type": "code",
   "execution_count": 22,
   "id": "a5fe068e",
   "metadata": {
    "execution": {
     "iopub.execute_input": "2022-02-08T06:06:20.340058Z",
     "iopub.status.busy": "2022-02-08T06:06:20.339334Z",
     "iopub.status.idle": "2022-02-08T06:06:20.343018Z",
     "shell.execute_reply": "2022-02-08T06:06:20.343505Z",
     "shell.execute_reply.started": "2022-02-08T04:42:49.811201Z"
    },
    "papermill": {
     "duration": 0.075842,
     "end_time": "2022-02-08T06:06:20.343714",
     "exception": false,
     "start_time": "2022-02-08T06:06:20.267872",
     "status": "completed"
    },
    "tags": []
   },
   "outputs": [],
   "source": [
    "def result(row):\n",
    "    if row['winner'] == 'drawn':\n",
    "        return 'no result'\n",
    "    else:\n",
    "        return 'We got winner'\n",
    "        \n",
    "        "
   ]
  },
  {
   "cell_type": "code",
   "execution_count": 23,
   "id": "9606e9c5",
   "metadata": {
    "execution": {
     "iopub.execute_input": "2022-02-08T06:06:20.482382Z",
     "iopub.status.busy": "2022-02-08T06:06:20.481757Z",
     "iopub.status.idle": "2022-02-08T06:06:20.496130Z",
     "shell.execute_reply": "2022-02-08T06:06:20.495576Z",
     "shell.execute_reply.started": "2022-02-08T04:42:53.095692Z"
    },
    "papermill": {
     "duration": 0.084671,
     "end_time": "2022-02-08T06:06:20.496274",
     "exception": false,
     "start_time": "2022-02-08T06:06:20.411603",
     "status": "completed"
    },
    "tags": []
   },
   "outputs": [],
   "source": [
    "data['result'] = data.apply(lambda row:result(row), axis = 1)"
   ]
  },
  {
   "cell_type": "markdown",
   "id": "b14e2741",
   "metadata": {
    "papermill": {
     "duration": 0.066853,
     "end_time": "2022-02-08T06:06:20.630100",
     "exception": false,
     "start_time": "2022-02-08T06:06:20.563247",
     "status": "completed"
    },
    "tags": []
   },
   "source": [
    "## Now our dataset looks like.."
   ]
  },
  {
   "cell_type": "code",
   "execution_count": 24,
   "id": "2a0c53bb",
   "metadata": {
    "execution": {
     "iopub.execute_input": "2022-02-08T06:06:20.770580Z",
     "iopub.status.busy": "2022-02-08T06:06:20.769986Z",
     "iopub.status.idle": "2022-02-08T06:06:20.783920Z",
     "shell.execute_reply": "2022-02-08T06:06:20.784351Z",
     "shell.execute_reply.started": "2022-02-08T04:42:55.435221Z"
    },
    "papermill": {
     "duration": 0.086142,
     "end_time": "2022-02-08T06:06:20.784538",
     "exception": false,
     "start_time": "2022-02-08T06:06:20.698396",
     "status": "completed"
    },
    "tags": []
   },
   "outputs": [
    {
     "data": {
      "text/html": [
       "<div>\n",
       "<style scoped>\n",
       "    .dataframe tbody tr th:only-of-type {\n",
       "        vertical-align: middle;\n",
       "    }\n",
       "\n",
       "    .dataframe tbody tr th {\n",
       "        vertical-align: top;\n",
       "    }\n",
       "\n",
       "    .dataframe thead th {\n",
       "        text-align: right;\n",
       "    }\n",
       "</style>\n",
       "<table border=\"1\" class=\"dataframe\">\n",
       "  <thead>\n",
       "    <tr style=\"text-align: right;\">\n",
       "      <th></th>\n",
       "      <th>host_team</th>\n",
       "      <th>away_team</th>\n",
       "      <th>winner</th>\n",
       "      <th>margin</th>\n",
       "      <th>ground</th>\n",
       "      <th>match_date</th>\n",
       "      <th>result</th>\n",
       "    </tr>\n",
       "  </thead>\n",
       "  <tbody>\n",
       "    <tr>\n",
       "      <th>0</th>\n",
       "      <td>Australia</td>\n",
       "      <td>India</td>\n",
       "      <td>Australia</td>\n",
       "      <td>inns &amp; 141 runs</td>\n",
       "      <td>Sydney</td>\n",
       "      <td>Jan 2-4, 2000</td>\n",
       "      <td>We got winner</td>\n",
       "    </tr>\n",
       "    <tr>\n",
       "      <th>1</th>\n",
       "      <td>South Africa</td>\n",
       "      <td>England</td>\n",
       "      <td>South Africa</td>\n",
       "      <td>inns &amp; 37 runs</td>\n",
       "      <td>Cape Town</td>\n",
       "      <td>Jan 2-5, 2000</td>\n",
       "      <td>We got winner</td>\n",
       "    </tr>\n",
       "    <tr>\n",
       "      <th>2</th>\n",
       "      <td>South Africa</td>\n",
       "      <td>England</td>\n",
       "      <td>England</td>\n",
       "      <td>2 wickets</td>\n",
       "      <td>Centurion</td>\n",
       "      <td>Jan 14-18, 2000</td>\n",
       "      <td>We got winner</td>\n",
       "    </tr>\n",
       "    <tr>\n",
       "      <th>3</th>\n",
       "      <td>India</td>\n",
       "      <td>South Africa</td>\n",
       "      <td>South Africa</td>\n",
       "      <td>4 wickets</td>\n",
       "      <td>Mumbai</td>\n",
       "      <td>Feb 24-26, 2000</td>\n",
       "      <td>We got winner</td>\n",
       "    </tr>\n",
       "    <tr>\n",
       "      <th>4</th>\n",
       "      <td>Pakistan</td>\n",
       "      <td>Sri Lanka</td>\n",
       "      <td>Sri Lanka</td>\n",
       "      <td>2 wickets</td>\n",
       "      <td>Rawalpindi</td>\n",
       "      <td>Feb 26-Mar 1, 2000</td>\n",
       "      <td>We got winner</td>\n",
       "    </tr>\n",
       "    <tr>\n",
       "      <th>...</th>\n",
       "      <td>...</td>\n",
       "      <td>...</td>\n",
       "      <td>...</td>\n",
       "      <td>...</td>\n",
       "      <td>...</td>\n",
       "      <td>...</td>\n",
       "      <td>...</td>\n",
       "    </tr>\n",
       "    <tr>\n",
       "      <th>1</th>\n",
       "      <td>South Africa</td>\n",
       "      <td>India</td>\n",
       "      <td>South Africa</td>\n",
       "      <td>7 wickets</td>\n",
       "      <td>Johannesburg</td>\n",
       "      <td>Jan 3-6, 2022</td>\n",
       "      <td>We got winner</td>\n",
       "    </tr>\n",
       "    <tr>\n",
       "      <th>2</th>\n",
       "      <td>Australia</td>\n",
       "      <td>England</td>\n",
       "      <td>drawn</td>\n",
       "      <td>0</td>\n",
       "      <td>Sydney</td>\n",
       "      <td>Jan 5-9, 2022</td>\n",
       "      <td>no result</td>\n",
       "    </tr>\n",
       "    <tr>\n",
       "      <th>3</th>\n",
       "      <td>New Zealand</td>\n",
       "      <td>Bangladesh</td>\n",
       "      <td>New Zealand</td>\n",
       "      <td>inns &amp; 117 runs</td>\n",
       "      <td>Christchurch</td>\n",
       "      <td>Jan 9-11, 2022</td>\n",
       "      <td>We got winner</td>\n",
       "    </tr>\n",
       "    <tr>\n",
       "      <th>4</th>\n",
       "      <td>South Africa</td>\n",
       "      <td>India</td>\n",
       "      <td>South Africa</td>\n",
       "      <td>7 wickets</td>\n",
       "      <td>Cape Town</td>\n",
       "      <td>Jan 11-14, 2022</td>\n",
       "      <td>We got winner</td>\n",
       "    </tr>\n",
       "    <tr>\n",
       "      <th>5</th>\n",
       "      <td>Australia</td>\n",
       "      <td>England</td>\n",
       "      <td>Australia</td>\n",
       "      <td>146 runs</td>\n",
       "      <td>Hobart</td>\n",
       "      <td>Jan 14-16, 2022</td>\n",
       "      <td>We got winner</td>\n",
       "    </tr>\n",
       "  </tbody>\n",
       "</table>\n",
       "<p>970 rows × 7 columns</p>\n",
       "</div>"
      ],
      "text/plain": [
       "       host_team     away_team        winner           margin        ground  \\\n",
       "0      Australia         India     Australia  inns & 141 runs        Sydney   \n",
       "1   South Africa       England  South Africa   inns & 37 runs     Cape Town   \n",
       "2   South Africa       England       England        2 wickets     Centurion   \n",
       "3          India  South Africa  South Africa        4 wickets        Mumbai   \n",
       "4       Pakistan     Sri Lanka     Sri Lanka        2 wickets    Rawalpindi   \n",
       "..           ...           ...           ...              ...           ...   \n",
       "1   South Africa         India  South Africa        7 wickets  Johannesburg   \n",
       "2      Australia       England         drawn                0        Sydney   \n",
       "3    New Zealand    Bangladesh   New Zealand  inns & 117 runs  Christchurch   \n",
       "4   South Africa         India  South Africa        7 wickets     Cape Town   \n",
       "5      Australia       England     Australia         146 runs        Hobart   \n",
       "\n",
       "            match_date         result  \n",
       "0        Jan 2-4, 2000  We got winner  \n",
       "1        Jan 2-5, 2000  We got winner  \n",
       "2      Jan 14-18, 2000  We got winner  \n",
       "3      Feb 24-26, 2000  We got winner  \n",
       "4   Feb 26-Mar 1, 2000  We got winner  \n",
       "..                 ...            ...  \n",
       "1        Jan 3-6, 2022  We got winner  \n",
       "2        Jan 5-9, 2022      no result  \n",
       "3       Jan 9-11, 2022  We got winner  \n",
       "4      Jan 11-14, 2022  We got winner  \n",
       "5      Jan 14-16, 2022  We got winner  \n",
       "\n",
       "[970 rows x 7 columns]"
      ]
     },
     "execution_count": 24,
     "metadata": {},
     "output_type": "execute_result"
    }
   ],
   "source": [
    "data"
   ]
  },
  {
   "cell_type": "markdown",
   "id": "1cb6ebbf",
   "metadata": {
    "papermill": {
     "duration": 0.072872,
     "end_time": "2022-02-08T06:06:20.925561",
     "exception": false,
     "start_time": "2022-02-08T06:06:20.852689",
     "status": "completed"
    },
    "tags": []
   },
   "source": [
    "## see in how many matches we got a winner"
   ]
  },
  {
   "cell_type": "code",
   "execution_count": 25,
   "id": "794bba16",
   "metadata": {
    "execution": {
     "iopub.execute_input": "2022-02-08T06:06:21.065801Z",
     "iopub.status.busy": "2022-02-08T06:06:21.065184Z",
     "iopub.status.idle": "2022-02-08T06:06:21.071520Z",
     "shell.execute_reply": "2022-02-08T06:06:21.072205Z",
     "shell.execute_reply.started": "2022-02-08T04:43:46.957951Z"
    },
    "papermill": {
     "duration": 0.078011,
     "end_time": "2022-02-08T06:06:21.072403",
     "exception": false,
     "start_time": "2022-02-08T06:06:20.994392",
     "status": "completed"
    },
    "tags": []
   },
   "outputs": [
    {
     "data": {
      "text/plain": [
       "We got winner    760\n",
       "no result        210\n",
       "Name: result, dtype: int64"
      ]
     },
     "execution_count": 25,
     "metadata": {},
     "output_type": "execute_result"
    }
   ],
   "source": [
    "data['result'].value_counts()"
   ]
  },
  {
   "cell_type": "code",
   "execution_count": 26,
   "id": "07911ed7",
   "metadata": {
    "execution": {
     "iopub.execute_input": "2022-02-08T06:06:21.212087Z",
     "iopub.status.busy": "2022-02-08T06:06:21.211399Z",
     "iopub.status.idle": "2022-02-08T06:06:21.330528Z",
     "shell.execute_reply": "2022-02-08T06:06:21.331018Z",
     "shell.execute_reply.started": "2022-02-08T04:43:50.275889Z"
    },
    "papermill": {
     "duration": 0.190265,
     "end_time": "2022-02-08T06:06:21.331210",
     "exception": false,
     "start_time": "2022-02-08T06:06:21.140945",
     "status": "completed"
    },
    "tags": []
   },
   "outputs": [
    {
     "data": {
      "image/png": "[encoded data removed]",
      "text/plain": [
       "<Figure size 720x576 with 1 Axes>"
      ]
     },
     "metadata": {
      "needs_background": "light"
     },
     "output_type": "display_data"
    }
   ],
   "source": [
    "plt.figure(figsize = (10,8))\n",
    "sns.countplot(x = 'result', data = data)\n",
    "plt.show()"
   ]
  },
  {
   "cell_type": "markdown",
   "id": "046bdbb7",
   "metadata": {
    "papermill": {
     "duration": 0.067358,
     "end_time": "2022-02-08T06:06:21.467080",
     "exception": false,
     "start_time": "2022-02-08T06:06:21.399722",
     "status": "completed"
    },
    "tags": []
   },
   "source": [
    "## Now we'll add a new coulmn for which year the match took place, altough we already have a date coulmn, but that's a bit noisy"
   ]
  },
  {
   "cell_type": "code",
   "execution_count": 27,
   "id": "7ad716cd",
   "metadata": {
    "execution": {
     "iopub.execute_input": "2022-02-08T06:06:21.609148Z",
     "iopub.status.busy": "2022-02-08T06:06:21.607552Z",
     "iopub.status.idle": "2022-02-08T06:06:21.611362Z",
     "shell.execute_reply": "2022-02-08T06:06:21.610769Z",
     "shell.execute_reply.started": "2022-02-08T04:44:51.910824Z"
    },
    "papermill": {
     "duration": 0.075781,
     "end_time": "2022-02-08T06:06:21.611501",
     "exception": false,
     "start_time": "2022-02-08T06:06:21.535720",
     "status": "completed"
    },
    "tags": []
   },
   "outputs": [],
   "source": [
    "def year(row):\n",
    "    y = row['match_date']\n",
    "    y = y[len(y)-4:]\n",
    "    return y\n"
   ]
  },
  {
   "cell_type": "code",
   "execution_count": 28,
   "id": "a26b10f1",
   "metadata": {
    "execution": {
     "iopub.execute_input": "2022-02-08T06:06:21.756043Z",
     "iopub.status.busy": "2022-02-08T06:06:21.755049Z",
     "iopub.status.idle": "2022-02-08T06:06:21.771618Z",
     "shell.execute_reply": "2022-02-08T06:06:21.771050Z",
     "shell.execute_reply.started": "2022-02-08T04:44:55.689758Z"
    },
    "papermill": {
     "duration": 0.089817,
     "end_time": "2022-02-08T06:06:21.771755",
     "exception": false,
     "start_time": "2022-02-08T06:06:21.681938",
     "status": "completed"
    },
    "tags": []
   },
   "outputs": [],
   "source": [
    "data['year'] = data.apply(lambda row : year(row), axis = 1)"
   ]
  },
  {
   "cell_type": "markdown",
   "id": "5f1a9987",
   "metadata": {
    "papermill": {
     "duration": 0.068921,
     "end_time": "2022-02-08T06:06:21.909360",
     "exception": false,
     "start_time": "2022-02-08T06:06:21.840439",
     "status": "completed"
    },
    "tags": []
   },
   "source": [
    "## now let's see which year hosted how many test matches"
   ]
  },
  {
   "cell_type": "code",
   "execution_count": 29,
   "id": "1171361b",
   "metadata": {
    "execution": {
     "iopub.execute_input": "2022-02-08T06:06:22.077579Z",
     "iopub.status.busy": "2022-02-08T06:06:22.076115Z",
     "iopub.status.idle": "2022-02-08T06:06:22.283426Z",
     "shell.execute_reply": "2022-02-08T06:06:22.283893Z",
     "shell.execute_reply.started": "2022-02-08T04:45:29.421293Z"
    },
    "papermill": {
     "duration": 0.305712,
     "end_time": "2022-02-08T06:06:22.284078",
     "exception": false,
     "start_time": "2022-02-08T06:06:21.978366",
     "status": "completed"
    },
    "tags": []
   },
   "outputs": [
    {
     "data": {
      "image/png": "[encoded data removed]",
      "text/plain": [
       "<Figure size 1080x576 with 1 Axes>"
      ]
     },
     "metadata": {
      "needs_background": "light"
     },
     "output_type": "display_data"
    }
   ],
   "source": [
    "plt.figure(figsize = (15,8))\n",
    "sns.countplot(x = 'year',data = data)\n",
    "plt.show()"
   ]
  },
  {
   "cell_type": "markdown",
   "id": "9f81a8cf",
   "metadata": {
    "papermill": {
     "duration": 0.067777,
     "end_time": "2022-02-08T06:06:22.419523",
     "exception": false,
     "start_time": "2022-02-08T06:06:22.351746",
     "status": "completed"
    },
    "tags": []
   },
   "source": [
    "### almost every year tookmplace approximately same number of matches, except for 2007 and 2020. \n",
    "### <span style = \"color :blue;\">we all know what happend in 2020😏__ </span>\n",
    "### in 2007 ? \n",
    "### <span style = \"color :cyan;\">I don't know🤷🏻‍♂️</span>"
   ]
  },
  {
   "cell_type": "markdown",
   "id": "e727b945",
   "metadata": {
    "papermill": {
     "duration": 0.069167,
     "end_time": "2022-02-08T06:06:22.556912",
     "exception": false,
     "start_time": "2022-02-08T06:06:22.487745",
     "status": "completed"
    },
    "tags": []
   },
   "source": [
    "# <span style = \"color :blue;\">EDA India</span>\n",
    "### <span style = \"color :magenta;\">Because it's my favorite </span>"
   ]
  },
  {
   "cell_type": "markdown",
   "id": "d2ef44bf",
   "metadata": {
    "papermill": {
     "duration": 0.067818,
     "end_time": "2022-02-08T06:06:22.692760",
     "exception": false,
     "start_time": "2022-02-08T06:06:22.624942",
     "status": "completed"
    },
    "tags": []
   },
   "source": [
    "## we'll slice the datasets for onluy the matches that was hosted by India"
   ]
  },
  {
   "cell_type": "code",
   "execution_count": 30,
   "id": "3b70ac7c",
   "metadata": {
    "execution": {
     "iopub.execute_input": "2022-02-08T06:06:22.837254Z",
     "iopub.status.busy": "2022-02-08T06:06:22.836287Z",
     "iopub.status.idle": "2022-02-08T06:06:22.841414Z",
     "shell.execute_reply": "2022-02-08T06:06:22.841843Z",
     "shell.execute_reply.started": "2022-02-08T04:52:26.487649Z"
    },
    "papermill": {
     "duration": 0.078765,
     "end_time": "2022-02-08T06:06:22.842028",
     "exception": false,
     "start_time": "2022-02-08T06:06:22.763263",
     "status": "completed"
    },
    "tags": []
   },
   "outputs": [],
   "source": [
    "data_india = data.loc[data['host_team'] == 'India']\n",
    "    "
   ]
  },
  {
   "cell_type": "markdown",
   "id": "68daa346",
   "metadata": {
    "papermill": {
     "duration": 0.088518,
     "end_time": "2022-02-08T06:06:23.004175",
     "exception": false,
     "start_time": "2022-02-08T06:06:22.915657",
     "status": "completed"
    },
    "tags": []
   },
   "source": [
    "## we'll add a column if India won, lost or drawn that home match"
   ]
  },
  {
   "cell_type": "code",
   "execution_count": 31,
   "id": "1add4e47",
   "metadata": {
    "execution": {
     "iopub.execute_input": "2022-02-08T06:06:23.173598Z",
     "iopub.status.busy": "2022-02-08T06:06:23.172606Z",
     "iopub.status.idle": "2022-02-08T06:06:23.177994Z",
     "shell.execute_reply": "2022-02-08T06:06:23.178473Z",
     "shell.execute_reply.started": "2022-02-08T04:53:19.336266Z"
    },
    "papermill": {
     "duration": 0.089152,
     "end_time": "2022-02-08T06:06:23.178659",
     "exception": false,
     "start_time": "2022-02-08T06:06:23.089507",
     "status": "completed"
    },
    "tags": []
   },
   "outputs": [],
   "source": [
    "def india_won(row):\n",
    "    if row['winner'] == 'India':\n",
    "        return 'won'\n",
    "    elif row['winner'] == 'drawn':\n",
    "        return 'drawn'\n",
    "    else:\n",
    "        return 'lost'\n",
    "    "
   ]
  },
  {
   "cell_type": "code",
   "execution_count": 32,
   "id": "1d9dd094",
   "metadata": {
    "execution": {
     "iopub.execute_input": "2022-02-08T06:06:23.359426Z",
     "iopub.status.busy": "2022-02-08T06:06:23.358475Z",
     "iopub.status.idle": "2022-02-08T06:06:23.363199Z",
     "shell.execute_reply": "2022-02-08T06:06:23.363779Z",
     "shell.execute_reply.started": "2022-02-08T04:53:22.615595Z"
    },
    "papermill": {
     "duration": 0.097309,
     "end_time": "2022-02-08T06:06:23.363974",
     "exception": false,
     "start_time": "2022-02-08T06:06:23.266665",
     "status": "completed"
    },
    "tags": []
   },
   "outputs": [
    {
     "name": "stderr",
     "output_type": "stream",
     "text": [
      "/opt/conda/lib/python3.7/site-packages/ipykernel_launcher.py:1: SettingWithCopyWarning: \n",
      "A value is trying to be set on a copy of a slice from a DataFrame.\n",
      "Try using .loc[row_indexer,col_indexer] = value instead\n",
      "\n",
      "See the caveats in the documentation: https://pandas.pydata.org/pandas-docs/stable/user_guide/indexing.html#returning-a-view-versus-a-copy\n",
      "  \"\"\"Entry point for launching an IPython kernel.\n"
     ]
    }
   ],
   "source": [
    "data_india['winning_team'] = data_india.apply(lambda row : india_won(row), axis = 1)"
   ]
  },
  {
   "cell_type": "markdown",
   "id": "1c91f16d",
   "metadata": {
    "papermill": {
     "duration": 0.069097,
     "end_time": "2022-02-08T06:06:23.502302",
     "exception": false,
     "start_time": "2022-02-08T06:06:23.433205",
     "status": "completed"
    },
    "tags": []
   },
   "source": [
    "## As the title suggests"
   ]
  },
  {
   "cell_type": "code",
   "execution_count": 33,
   "id": "8e52bdde",
   "metadata": {
    "execution": {
     "iopub.execute_input": "2022-02-08T06:06:23.646929Z",
     "iopub.status.busy": "2022-02-08T06:06:23.646271Z",
     "iopub.status.idle": "2022-02-08T06:06:23.817232Z",
     "shell.execute_reply": "2022-02-08T06:06:23.816603Z",
     "shell.execute_reply.started": "2022-02-08T04:55:33.541685Z"
    },
    "papermill": {
     "duration": 0.244628,
     "end_time": "2022-02-08T06:06:23.817371",
     "exception": false,
     "start_time": "2022-02-08T06:06:23.572743",
     "status": "completed"
    },
    "tags": []
   },
   "outputs": [
    {
     "data": {
      "image/png": "[encoded data removed]",
      "text/plain": [
       "<Figure size 432x288 with 1 Axes>"
      ]
     },
     "metadata": {
      "needs_background": "light"
     },
     "output_type": "display_data"
    }
   ],
   "source": [
    "sns.countplot(x = 'winning_team', data = data_india)\n",
    "plt.title(\"Results of matches hosted by india\")\n",
    "plt.show()"
   ]
  },
  {
   "cell_type": "code",
   "execution_count": 34,
   "id": "780bba85",
   "metadata": {
    "execution": {
     "iopub.execute_input": "2022-02-08T06:06:23.974755Z",
     "iopub.status.busy": "2022-02-08T06:06:23.973806Z",
     "iopub.status.idle": "2022-02-08T06:06:23.983969Z",
     "shell.execute_reply": "2022-02-08T06:06:23.984817Z",
     "shell.execute_reply.started": "2022-02-08T04:55:53.983372Z"
    },
    "papermill": {
     "duration": 0.096355,
     "end_time": "2022-02-08T06:06:23.985153",
     "exception": false,
     "start_time": "2022-02-08T06:06:23.888798",
     "status": "completed"
    },
    "tags": []
   },
   "outputs": [],
   "source": [
    "home_india = {}\n",
    "for matches, result in enumerate(data_india['winning_team'].value_counts().index.tolist()):\n",
    "    home_india[result] = data_india['winning_team'].value_counts()[matches]"
   ]
  },
  {
   "cell_type": "code",
   "execution_count": 35,
   "id": "d08a1e44",
   "metadata": {
    "execution": {
     "iopub.execute_input": "2022-02-08T06:06:24.140670Z",
     "iopub.status.busy": "2022-02-08T06:06:24.140067Z",
     "iopub.status.idle": "2022-02-08T06:06:24.262641Z",
     "shell.execute_reply": "2022-02-08T06:06:24.263498Z",
     "shell.execute_reply.started": "2022-02-08T04:53:56.300309Z"
    },
    "papermill": {
     "duration": 0.197174,
     "end_time": "2022-02-08T06:06:24.263777",
     "exception": false,
     "start_time": "2022-02-08T06:06:24.066603",
     "status": "completed"
    },
    "tags": []
   },
   "outputs": [
    {
     "data": {
      "image/png": "[encoded data removed]",
      "text/plain": [
       "<Figure size 576x576 with 1 Axes>"
      ]
     },
     "metadata": {},
     "output_type": "display_data"
    }
   ],
   "source": [
    "plt.figure(figsize = (8,8))\n",
    "bd = list(home_india.keys())\n",
    "bc = list(home_india.values())\n",
    "plt.pie(bc, labels = bd, autopct = '%1.2f%%')\n",
    "plt.show()"
   ]
  },
  {
   "cell_type": "markdown",
   "id": "8de8c857",
   "metadata": {
    "papermill": {
     "duration": 0.069676,
     "end_time": "2022-02-08T06:06:24.434134",
     "exception": false,
     "start_time": "2022-02-08T06:06:24.364458",
     "status": "completed"
    },
    "tags": []
   },
   "source": [
    "## <span style = \"color :green;\">Woo! almost 60% wins, Impressive</span>"
   ]
  },
  {
   "cell_type": "markdown",
   "id": "926ba2a6",
   "metadata": {
    "papermill": {
     "duration": 0.0702,
     "end_time": "2022-02-08T06:06:24.574254",
     "exception": false,
     "start_time": "2022-02-08T06:06:24.504054",
     "status": "completed"
    },
    "tags": []
   },
   "source": [
    "## now we'll create a data subset for matches that was played by India hosted outside of India"
   ]
  },
  {
   "cell_type": "code",
   "execution_count": 36,
   "id": "5c5ae8fd",
   "metadata": {
    "execution": {
     "iopub.execute_input": "2022-02-08T06:06:24.718745Z",
     "iopub.status.busy": "2022-02-08T06:06:24.718146Z",
     "iopub.status.idle": "2022-02-08T06:06:24.722268Z",
     "shell.execute_reply": "2022-02-08T06:06:24.722766Z",
     "shell.execute_reply.started": "2022-02-08T04:57:28.821619Z"
    },
    "papermill": {
     "duration": 0.07748,
     "end_time": "2022-02-08T06:06:24.722953",
     "exception": false,
     "start_time": "2022-02-08T06:06:24.645473",
     "status": "completed"
    },
    "tags": []
   },
   "outputs": [],
   "source": [
    "data_india_away = data.loc[data['away_team'] == 'India']"
   ]
  },
  {
   "cell_type": "markdown",
   "id": "81a0e581",
   "metadata": {
    "papermill": {
     "duration": 0.069667,
     "end_time": "2022-02-08T06:06:24.863879",
     "exception": false,
     "start_time": "2022-02-08T06:06:24.794212",
     "status": "completed"
    },
    "tags": []
   },
   "source": [
    "## will do the same as home matches"
   ]
  },
  {
   "cell_type": "code",
   "execution_count": 37,
   "id": "5d91dc10",
   "metadata": {
    "execution": {
     "iopub.execute_input": "2022-02-08T06:06:25.006164Z",
     "iopub.status.busy": "2022-02-08T06:06:25.005554Z",
     "iopub.status.idle": "2022-02-08T06:06:25.013371Z",
     "shell.execute_reply": "2022-02-08T06:06:25.012778Z",
     "shell.execute_reply.started": "2022-02-08T04:57:36.442532Z"
    },
    "papermill": {
     "duration": 0.080033,
     "end_time": "2022-02-08T06:06:25.013501",
     "exception": false,
     "start_time": "2022-02-08T06:06:24.933468",
     "status": "completed"
    },
    "tags": []
   },
   "outputs": [
    {
     "name": "stderr",
     "output_type": "stream",
     "text": [
      "/opt/conda/lib/python3.7/site-packages/ipykernel_launcher.py:1: SettingWithCopyWarning: \n",
      "A value is trying to be set on a copy of a slice from a DataFrame.\n",
      "Try using .loc[row_indexer,col_indexer] = value instead\n",
      "\n",
      "See the caveats in the documentation: https://pandas.pydata.org/pandas-docs/stable/user_guide/indexing.html#returning-a-view-versus-a-copy\n",
      "  \"\"\"Entry point for launching an IPython kernel.\n"
     ]
    }
   ],
   "source": [
    "data_india_away['winning_team'] = data_india_away.apply(lambda row : india_won(row), axis = 1)"
   ]
  },
  {
   "cell_type": "code",
   "execution_count": 38,
   "id": "88a15e2d",
   "metadata": {
    "execution": {
     "iopub.execute_input": "2022-02-08T06:06:25.192755Z",
     "iopub.status.busy": "2022-02-08T06:06:25.183112Z",
     "iopub.status.idle": "2022-02-08T06:06:25.316561Z",
     "shell.execute_reply": "2022-02-08T06:06:25.317083Z",
     "shell.execute_reply.started": "2022-02-08T04:57:55.371486Z"
    },
    "papermill": {
     "duration": 0.232199,
     "end_time": "2022-02-08T06:06:25.317260",
     "exception": false,
     "start_time": "2022-02-08T06:06:25.085061",
     "status": "completed"
    },
    "tags": []
   },
   "outputs": [
    {
     "data": {
      "image/png": "[encoded data removed]",
      "text/plain": [
       "<Figure size 432x288 with 1 Axes>"
      ]
     },
     "metadata": {
      "needs_background": "light"
     },
     "output_type": "display_data"
    }
   ],
   "source": [
    "sns.countplot(x = 'winning_team', data = data_india_away)\n",
    "plt.show()"
   ]
  },
  {
   "cell_type": "code",
   "execution_count": 39,
   "id": "2ee4462f",
   "metadata": {
    "execution": {
     "iopub.execute_input": "2022-02-08T06:06:25.466226Z",
     "iopub.status.busy": "2022-02-08T06:06:25.465537Z",
     "iopub.status.idle": "2022-02-08T06:06:25.472267Z",
     "shell.execute_reply": "2022-02-08T06:06:25.472754Z",
     "shell.execute_reply.started": "2022-02-08T04:58:02.316293Z"
    },
    "papermill": {
     "duration": 0.083211,
     "end_time": "2022-02-08T06:06:25.472959",
     "exception": false,
     "start_time": "2022-02-08T06:06:25.389748",
     "status": "completed"
    },
    "tags": []
   },
   "outputs": [],
   "source": [
    "away_india = {}\n",
    "for matches, result in enumerate(data_india_away['winning_team'].value_counts().index.tolist()):\n",
    "    away_india[result] = data_india_away['winning_team'].value_counts()[matches]\n",
    "    "
   ]
  },
  {
   "cell_type": "code",
   "execution_count": 40,
   "id": "4d0bac42",
   "metadata": {
    "execution": {
     "iopub.execute_input": "2022-02-08T06:06:25.620284Z",
     "iopub.status.busy": "2022-02-08T06:06:25.619648Z",
     "iopub.status.idle": "2022-02-08T06:06:25.735869Z",
     "shell.execute_reply": "2022-02-08T06:06:25.736708Z",
     "shell.execute_reply.started": "2022-02-08T04:58:09.666096Z"
    },
    "papermill": {
     "duration": 0.19198,
     "end_time": "2022-02-08T06:06:25.736996",
     "exception": false,
     "start_time": "2022-02-08T06:06:25.545016",
     "status": "completed"
    },
    "tags": []
   },
   "outputs": [
    {
     "data": {
      "image/png": "[encoded data removed]",
      "text/plain": [
       "<Figure size 576x576 with 1 Axes>"
      ]
     },
     "metadata": {},
     "output_type": "display_data"
    }
   ],
   "source": [
    "plt.figure(figsize = (8,8))\n",
    "ad = list(away_india.keys())\n",
    "ac = list(away_india.values())\n",
    "plt.pie(ac, labels = ad, autopct = '%1.2f%%')\n",
    "plt.show()"
   ]
  },
  {
   "cell_type": "markdown",
   "id": "53e0dd42",
   "metadata": {
    "papermill": {
     "duration": 0.071675,
     "end_time": "2022-02-08T06:06:25.910057",
     "exception": false,
     "start_time": "2022-02-08T06:06:25.838382",
     "status": "completed"
    },
    "tags": []
   },
   "source": [
    "## <span style = \"color : green;\">40% win here too</span>"
   ]
  },
  {
   "cell_type": "code",
   "execution_count": 41,
   "id": "c8b843c9",
   "metadata": {
    "execution": {
     "iopub.execute_input": "2022-02-08T06:06:26.073209Z",
     "iopub.status.busy": "2022-02-08T06:06:26.072291Z",
     "iopub.status.idle": "2022-02-08T06:06:26.076065Z",
     "shell.execute_reply": "2022-02-08T06:06:26.075577Z",
     "shell.execute_reply.started": "2022-02-08T04:58:31.081494Z"
    },
    "papermill": {
     "duration": 0.092796,
     "end_time": "2022-02-08T06:06:26.076209",
     "exception": false,
     "start_time": "2022-02-08T06:06:25.983413",
     "status": "completed"
    },
    "tags": []
   },
   "outputs": [
    {
     "data": {
      "text/html": [
       "<div>\n",
       "<style scoped>\n",
       "    .dataframe tbody tr th:only-of-type {\n",
       "        vertical-align: middle;\n",
       "    }\n",
       "\n",
       "    .dataframe tbody tr th {\n",
       "        vertical-align: top;\n",
       "    }\n",
       "\n",
       "    .dataframe thead th {\n",
       "        text-align: right;\n",
       "    }\n",
       "</style>\n",
       "<table border=\"1\" class=\"dataframe\">\n",
       "  <thead>\n",
       "    <tr style=\"text-align: right;\">\n",
       "      <th></th>\n",
       "      <th>host_team</th>\n",
       "      <th>away_team</th>\n",
       "      <th>winner</th>\n",
       "      <th>margin</th>\n",
       "      <th>ground</th>\n",
       "      <th>match_date</th>\n",
       "      <th>result</th>\n",
       "      <th>year</th>\n",
       "      <th>winning_team</th>\n",
       "    </tr>\n",
       "  </thead>\n",
       "  <tbody>\n",
       "    <tr>\n",
       "      <th>3</th>\n",
       "      <td>India</td>\n",
       "      <td>South Africa</td>\n",
       "      <td>South Africa</td>\n",
       "      <td>4 wickets</td>\n",
       "      <td>Mumbai</td>\n",
       "      <td>Feb 24-26, 2000</td>\n",
       "      <td>We got winner</td>\n",
       "      <td>2000</td>\n",
       "      <td>lost</td>\n",
       "    </tr>\n",
       "    <tr>\n",
       "      <th>5</th>\n",
       "      <td>India</td>\n",
       "      <td>South Africa</td>\n",
       "      <td>South Africa</td>\n",
       "      <td>inns &amp; 71 runs</td>\n",
       "      <td>Bengaluru</td>\n",
       "      <td>Mar 2-6, 2000</td>\n",
       "      <td>We got winner</td>\n",
       "      <td>2000</td>\n",
       "      <td>lost</td>\n",
       "    </tr>\n",
       "    <tr>\n",
       "      <th>34</th>\n",
       "      <td>India</td>\n",
       "      <td>Zimbabwe</td>\n",
       "      <td>India</td>\n",
       "      <td>7 wickets</td>\n",
       "      <td>Delhi</td>\n",
       "      <td>Nov 18-22, 2000</td>\n",
       "      <td>We got winner</td>\n",
       "      <td>2000</td>\n",
       "      <td>won</td>\n",
       "    </tr>\n",
       "    <tr>\n",
       "      <th>36</th>\n",
       "      <td>India</td>\n",
       "      <td>Zimbabwe</td>\n",
       "      <td>drawn</td>\n",
       "      <td>0</td>\n",
       "      <td>Nagpur</td>\n",
       "      <td>Nov 25-29, 2000</td>\n",
       "      <td>no result</td>\n",
       "      <td>2000</td>\n",
       "      <td>drawn</td>\n",
       "    </tr>\n",
       "    <tr>\n",
       "      <th>4</th>\n",
       "      <td>India</td>\n",
       "      <td>Australia</td>\n",
       "      <td>Australia</td>\n",
       "      <td>10 wickets</td>\n",
       "      <td>Mumbai</td>\n",
       "      <td>Feb 27-Mar 1, 2001</td>\n",
       "      <td>We got winner</td>\n",
       "      <td>2001</td>\n",
       "      <td>lost</td>\n",
       "    </tr>\n",
       "    <tr>\n",
       "      <th>...</th>\n",
       "      <td>...</td>\n",
       "      <td>...</td>\n",
       "      <td>...</td>\n",
       "      <td>...</td>\n",
       "      <td>...</td>\n",
       "      <td>...</td>\n",
       "      <td>...</td>\n",
       "      <td>...</td>\n",
       "      <td>...</td>\n",
       "    </tr>\n",
       "    <tr>\n",
       "      <th>12</th>\n",
       "      <td>India</td>\n",
       "      <td>England</td>\n",
       "      <td>India</td>\n",
       "      <td>10 wickets</td>\n",
       "      <td>Ahmedabad</td>\n",
       "      <td>Feb 24-25, 2021</td>\n",
       "      <td>We got winner</td>\n",
       "      <td>2021</td>\n",
       "      <td>won</td>\n",
       "    </tr>\n",
       "    <tr>\n",
       "      <th>14</th>\n",
       "      <td>India</td>\n",
       "      <td>England</td>\n",
       "      <td>India</td>\n",
       "      <td>inns &amp; 25 runs</td>\n",
       "      <td>Ahmedabad</td>\n",
       "      <td>Mar 4-6, 2021</td>\n",
       "      <td>We got winner</td>\n",
       "      <td>2021</td>\n",
       "      <td>won</td>\n",
       "    </tr>\n",
       "    <tr>\n",
       "      <th>25</th>\n",
       "      <td>India</td>\n",
       "      <td>New Zealand</td>\n",
       "      <td>New Zealand</td>\n",
       "      <td>8 wickets</td>\n",
       "      <td>Southampton</td>\n",
       "      <td>Jun 18-23, 2021</td>\n",
       "      <td>We got winner</td>\n",
       "      <td>2021</td>\n",
       "      <td>lost</td>\n",
       "    </tr>\n",
       "    <tr>\n",
       "      <th>35</th>\n",
       "      <td>India</td>\n",
       "      <td>New Zealand</td>\n",
       "      <td>drawn</td>\n",
       "      <td>0</td>\n",
       "      <td>Kanpur</td>\n",
       "      <td>Nov 25-29, 2021</td>\n",
       "      <td>no result</td>\n",
       "      <td>2021</td>\n",
       "      <td>drawn</td>\n",
       "    </tr>\n",
       "    <tr>\n",
       "      <th>38</th>\n",
       "      <td>India</td>\n",
       "      <td>New Zealand</td>\n",
       "      <td>India</td>\n",
       "      <td>372 runs</td>\n",
       "      <td>Mumbai</td>\n",
       "      <td>Dec 3-6, 2021</td>\n",
       "      <td>We got winner</td>\n",
       "      <td>2021</td>\n",
       "      <td>won</td>\n",
       "    </tr>\n",
       "  </tbody>\n",
       "</table>\n",
       "<p>104 rows × 9 columns</p>\n",
       "</div>"
      ],
      "text/plain": [
       "   host_team     away_team        winner          margin       ground  \\\n",
       "3      India  South Africa  South Africa       4 wickets       Mumbai   \n",
       "5      India  South Africa  South Africa  inns & 71 runs    Bengaluru   \n",
       "34     India      Zimbabwe         India       7 wickets        Delhi   \n",
       "36     India      Zimbabwe         drawn               0       Nagpur   \n",
       "4      India     Australia     Australia      10 wickets       Mumbai   \n",
       "..       ...           ...           ...             ...          ...   \n",
       "12     India       England         India      10 wickets    Ahmedabad   \n",
       "14     India       England         India  inns & 25 runs    Ahmedabad   \n",
       "25     India   New Zealand   New Zealand       8 wickets  Southampton   \n",
       "35     India   New Zealand         drawn               0       Kanpur   \n",
       "38     India   New Zealand         India        372 runs       Mumbai   \n",
       "\n",
       "            match_date         result  year winning_team  \n",
       "3      Feb 24-26, 2000  We got winner  2000         lost  \n",
       "5        Mar 2-6, 2000  We got winner  2000         lost  \n",
       "34     Nov 18-22, 2000  We got winner  2000          won  \n",
       "36     Nov 25-29, 2000      no result  2000        drawn  \n",
       "4   Feb 27-Mar 1, 2001  We got winner  2001         lost  \n",
       "..                 ...            ...   ...          ...  \n",
       "12     Feb 24-25, 2021  We got winner  2021          won  \n",
       "14       Mar 4-6, 2021  We got winner  2021          won  \n",
       "25     Jun 18-23, 2021  We got winner  2021         lost  \n",
       "35     Nov 25-29, 2021      no result  2021        drawn  \n",
       "38       Dec 3-6, 2021  We got winner  2021          won  \n",
       "\n",
       "[104 rows x 9 columns]"
      ]
     },
     "execution_count": 41,
     "metadata": {},
     "output_type": "execute_result"
    }
   ],
   "source": [
    "data_india"
   ]
  },
  {
   "cell_type": "markdown",
   "id": "4c0cfc33",
   "metadata": {
    "papermill": {
     "duration": 0.076007,
     "end_time": "2022-02-08T06:06:26.226046",
     "exception": false,
     "start_time": "2022-02-08T06:06:26.150039",
     "status": "completed"
    },
    "tags": []
   },
   "source": [
    "## This is India's away performance against different teams"
   ]
  },
  {
   "cell_type": "code",
   "execution_count": 42,
   "id": "2fd62ef6",
   "metadata": {
    "execution": {
     "iopub.execute_input": "2022-02-08T06:06:26.381353Z",
     "iopub.status.busy": "2022-02-08T06:06:26.380665Z",
     "iopub.status.idle": "2022-02-08T06:06:26.676556Z",
     "shell.execute_reply": "2022-02-08T06:06:26.677038Z",
     "shell.execute_reply.started": "2022-02-08T05:05:34.687037Z"
    },
    "papermill": {
     "duration": 0.378629,
     "end_time": "2022-02-08T06:06:26.677209",
     "exception": false,
     "start_time": "2022-02-08T06:06:26.298580",
     "status": "completed"
    },
    "tags": []
   },
   "outputs": [
    {
     "data": {
      "image/png": "[encoded data removed]",
      "text/plain": [
       "<Figure size 1152x576 with 1 Axes>"
      ]
     },
     "metadata": {
      "needs_background": "light"
     },
     "output_type": "display_data"
    }
   ],
   "source": [
    "plt.figure(figsize = (16,8))\n",
    "sns.countplot(x = 'winning_team', data = data_india_away, hue = 'host_team', palette = 'bright')\n",
    "plt.show()"
   ]
  },
  {
   "cell_type": "markdown",
   "id": "21175be0",
   "metadata": {
    "papermill": {
     "duration": 0.075354,
     "end_time": "2022-02-08T06:06:26.827021",
     "exception": false,
     "start_time": "2022-02-08T06:06:26.751667",
     "status": "completed"
    },
    "tags": []
   },
   "source": [
    "## This is India's home performance against different teams"
   ]
  },
  {
   "cell_type": "code",
   "execution_count": 43,
   "id": "ba47b310",
   "metadata": {
    "execution": {
     "iopub.execute_input": "2022-02-08T06:06:26.983662Z",
     "iopub.status.busy": "2022-02-08T06:06:26.982957Z",
     "iopub.status.idle": "2022-02-08T06:06:27.427541Z",
     "shell.execute_reply": "2022-02-08T06:06:27.428074Z",
     "shell.execute_reply.started": "2022-02-08T05:08:09.443066Z"
    },
    "papermill": {
     "duration": 0.524899,
     "end_time": "2022-02-08T06:06:27.428268",
     "exception": false,
     "start_time": "2022-02-08T06:06:26.903369",
     "status": "completed"
    },
    "tags": []
   },
   "outputs": [
    {
     "data": {
      "image/png": "[encoded data removed]",
      "text/plain": [
       "<Figure size 1152x576 with 1 Axes>"
      ]
     },
     "metadata": {
      "needs_background": "light"
     },
     "output_type": "display_data"
    }
   ],
   "source": [
    "plt.figure(figsize = (16,8))\n",
    "sns.countplot(x = 'winning_team', data = data_india, hue = 'away_team', palette = 'bright')\n",
    "plt.show()"
   ]
  },
  {
   "cell_type": "code",
   "execution_count": 44,
   "id": "c0a121df",
   "metadata": {
    "execution": {
     "iopub.execute_input": "2022-02-08T06:06:27.588654Z",
     "iopub.status.busy": "2022-02-08T06:06:27.588020Z",
     "iopub.status.idle": "2022-02-08T06:06:27.596366Z",
     "shell.execute_reply": "2022-02-08T06:06:27.596900Z",
     "shell.execute_reply.started": "2022-02-08T05:06:43.015816Z"
    },
    "papermill": {
     "duration": 0.093982,
     "end_time": "2022-02-08T06:06:27.597100",
     "exception": false,
     "start_time": "2022-02-08T06:06:27.503118",
     "status": "completed"
    },
    "tags": []
   },
   "outputs": [],
   "source": [
    "india_venue ={}\n",
    "for matches, venue in enumerate(data_india['ground'].value_counts().index.tolist()):\n",
    "    india_venue[venue] = data_india['ground'].value_counts()[matches]\n"
   ]
  },
  {
   "cell_type": "markdown",
   "id": "7fda188d",
   "metadata": {
    "papermill": {
     "duration": 0.076775,
     "end_time": "2022-02-08T06:06:27.748342",
     "exception": false,
     "start_time": "2022-02-08T06:06:27.671567",
     "status": "completed"
    },
    "tags": []
   },
   "source": [
    "## Now let's see which venue hosted how many matches in India"
   ]
  },
  {
   "cell_type": "code",
   "execution_count": 45,
   "id": "686355be",
   "metadata": {
    "execution": {
     "iopub.execute_input": "2022-02-08T06:06:27.906776Z",
     "iopub.status.busy": "2022-02-08T06:06:27.901865Z",
     "iopub.status.idle": "2022-02-08T06:06:28.154974Z",
     "shell.execute_reply": "2022-02-08T06:06:28.154320Z",
     "shell.execute_reply.started": "2022-02-08T05:06:49.941947Z"
    },
    "papermill": {
     "duration": 0.331337,
     "end_time": "2022-02-08T06:06:28.155127",
     "exception": false,
     "start_time": "2022-02-08T06:06:27.823790",
     "status": "completed"
    },
    "tags": []
   },
   "outputs": [
    {
     "data": {
      "image/png": "[encoded data removed]",
      "text/plain": [
       "<Figure size 1296x576 with 1 Axes>"
      ]
     },
     "metadata": {
      "needs_background": "light"
     },
     "output_type": "display_data"
    }
   ],
   "source": [
    "keys = india_venue.keys()\n",
    "values = india_venue.values()\n",
    "plt.figure(figsize=(18,8))\n",
    "plt.bar(keys, values,color = 'k')\n",
    "plt.show()"
   ]
  },
  {
   "cell_type": "markdown",
   "id": "3e4e2617",
   "metadata": {
    "papermill": {
     "duration": 0.075388,
     "end_time": "2022-02-08T06:06:28.306768",
     "exception": false,
     "start_time": "2022-02-08T06:06:28.231380",
     "status": "completed"
    },
    "tags": []
   },
   "source": [
    "### It shows southampton, Because <span style = \"color : magenta;\"><b>WTC 2021 Final</b> </span><span style = \"color: blue;\">IndvsNZ</span>"
   ]
  },
  {
   "cell_type": "code",
   "execution_count": 46,
   "id": "776515a4",
   "metadata": {
    "execution": {
     "iopub.execute_input": "2022-02-08T06:06:28.470411Z",
     "iopub.status.busy": "2022-02-08T06:06:28.469713Z",
     "iopub.status.idle": "2022-02-08T06:06:28.479592Z",
     "shell.execute_reply": "2022-02-08T06:06:28.478940Z",
     "shell.execute_reply.started": "2022-02-08T05:11:23.522293Z"
    },
    "papermill": {
     "duration": 0.094982,
     "end_time": "2022-02-08T06:06:28.479748",
     "exception": false,
     "start_time": "2022-02-08T06:06:28.384766",
     "status": "completed"
    },
    "tags": []
   },
   "outputs": [],
   "source": [
    "venue = {'Kolkata': 12,\n",
    " 'Bengaluru': 11,\n",
    " 'Mumbai': 10,\n",
    " 'Nagpur': 10,\n",
    " 'Chennai': 10,\n",
    " 'Mohali': 10,\n",
    " 'Delhi': 9,\n",
    " 'Ahmedabad': 9,\n",
    " 'Kanpur': 5,\n",
    " 'Hyderabad (Deccan)': 5,\n",
    " 'Indore': 2,\n",
    " 'Rajkot': 2,\n",
    " 'Visakhapatnam': 2,\n",
    " 'Pune': 2,\n",
    " 'Ranchi': 2,\n",
    " 'Dharamsala': 1,\n",
    " 'Mumbai (BS)': 1,\n",
    " 'Southampton': 1}\n",
    "for i in venue.keys():\n",
    "    venue[i] = 0\n",
    "india_venue_result_won = venue.copy()\n",
    "india_venue_result_lost = venue.copy()\n",
    "india_venue_result_drawn = venue.copy()\n",
    "for index, row in data_india.iterrows():\n",
    "    if row['winning_team'] == 'won':\n",
    "        india_venue_result_won[row['ground']] = india_venue_result_won[row['ground']] + 1\n",
    "    elif row['winning_team'] == 'drawn':\n",
    "        india_venue_result_drawn[row['ground']] = india_venue_result_drawn[row['ground']] + 1\n",
    "    else:\n",
    "        india_venue_result_lost[row['ground']] = india_venue_result_lost[row['ground']] + 1\n",
    "\n",
    "\n",
    "\n",
    "        \n"
   ]
  },
  {
   "cell_type": "markdown",
   "id": "1097c506",
   "metadata": {
    "papermill": {
     "duration": 0.075843,
     "end_time": "2022-02-08T06:06:28.634465",
     "exception": false,
     "start_time": "2022-02-08T06:06:28.558622",
     "status": "completed"
    },
    "tags": []
   },
   "source": [
    "## Let's look at the performance of team India at their different venues"
   ]
  },
  {
   "cell_type": "code",
   "execution_count": 47,
   "id": "b8ed49ac",
   "metadata": {
    "execution": {
     "iopub.execute_input": "2022-02-08T06:06:28.794129Z",
     "iopub.status.busy": "2022-02-08T06:06:28.793051Z",
     "iopub.status.idle": "2022-02-08T06:06:29.157604Z",
     "shell.execute_reply": "2022-02-08T06:06:29.157139Z",
     "shell.execute_reply.started": "2022-02-08T05:07:03.391902Z"
    },
    "papermill": {
     "duration": 0.447952,
     "end_time": "2022-02-08T06:06:29.157740",
     "exception": false,
     "start_time": "2022-02-08T06:06:28.709788",
     "status": "completed"
    },
    "tags": []
   },
   "outputs": [
    {
     "data": {
      "image/png": "[encoded data removed]",
      "text/plain": [
       "<Figure size 1440x576 with 1 Axes>"
      ]
     },
     "metadata": {
      "needs_background": "light"
     },
     "output_type": "display_data"
    }
   ],
   "source": [
    "x = list(india_venue_result_won.keys())\n",
    "y1 = np.array(list(india_venue_result_won.values()))\n",
    "y2 = np.array(list(india_venue_result_drawn.values()))\n",
    "y3 = np.array(list(india_venue_result_lost.values()))\n",
    "plt.figure(figsize = (20,8))\n",
    "plt.bar(x, y1, color = 'r')\n",
    "plt.bar(x, y2, bottom = y1, color = 'b')\n",
    "plt.bar(x, y3, bottom = y1+y2, color = 'g')\n",
    "plt.xlabel(\"venues\")\n",
    "plt.ylabel(\"wins\")\n",
    "plt.legend(['Won','drawn','lost'])\n",
    "plt.title(\"home match results in different venues\")\n",
    "plt.show()"
   ]
  },
  {
   "cell_type": "markdown",
   "id": "51e105fb",
   "metadata": {
    "papermill": {
     "duration": 0.076291,
     "end_time": "2022-02-08T06:06:29.310784",
     "exception": false,
     "start_time": "2022-02-08T06:06:29.234493",
     "status": "completed"
    },
    "tags": []
   },
   "source": [
    "### we won 8 matches in <span style = \"color : blue;\">kolkata</span>, 7 matches each in <span style = \"color : blue;\">Mohali and Ahmedabad </span>\n",
    "<span style = \"color :red;font-size:24px\"><b>Undefeated at Kanpur, Hydrabad and many more</b></span>"
   ]
  },
  {
   "cell_type": "code",
   "execution_count": 48,
   "id": "0de1723a",
   "metadata": {
    "execution": {
     "iopub.execute_input": "2022-02-08T06:06:29.481756Z",
     "iopub.status.busy": "2022-02-08T06:06:29.480786Z",
     "iopub.status.idle": "2022-02-08T06:06:29.485295Z",
     "shell.execute_reply": "2022-02-08T06:06:29.484656Z",
     "shell.execute_reply.started": "2022-02-08T05:12:19.885727Z"
    },
    "papermill": {
     "duration": 0.098058,
     "end_time": "2022-02-08T06:06:29.485441",
     "exception": false,
     "start_time": "2022-02-08T06:06:29.387383",
     "status": "completed"
    },
    "tags": []
   },
   "outputs": [
    {
     "data": {
      "text/html": [
       "<div>\n",
       "<style scoped>\n",
       "    .dataframe tbody tr th:only-of-type {\n",
       "        vertical-align: middle;\n",
       "    }\n",
       "\n",
       "    .dataframe tbody tr th {\n",
       "        vertical-align: top;\n",
       "    }\n",
       "\n",
       "    .dataframe thead th {\n",
       "        text-align: right;\n",
       "    }\n",
       "</style>\n",
       "<table border=\"1\" class=\"dataframe\">\n",
       "  <thead>\n",
       "    <tr style=\"text-align: right;\">\n",
       "      <th></th>\n",
       "      <th>host_team</th>\n",
       "      <th>away_team</th>\n",
       "      <th>winner</th>\n",
       "      <th>margin</th>\n",
       "      <th>ground</th>\n",
       "      <th>match_date</th>\n",
       "      <th>result</th>\n",
       "      <th>year</th>\n",
       "      <th>winning_team</th>\n",
       "    </tr>\n",
       "  </thead>\n",
       "  <tbody>\n",
       "    <tr>\n",
       "      <th>3</th>\n",
       "      <td>India</td>\n",
       "      <td>South Africa</td>\n",
       "      <td>South Africa</td>\n",
       "      <td>4 wickets</td>\n",
       "      <td>Mumbai</td>\n",
       "      <td>Feb 24-26, 2000</td>\n",
       "      <td>We got winner</td>\n",
       "      <td>2000</td>\n",
       "      <td>lost</td>\n",
       "    </tr>\n",
       "    <tr>\n",
       "      <th>5</th>\n",
       "      <td>India</td>\n",
       "      <td>South Africa</td>\n",
       "      <td>South Africa</td>\n",
       "      <td>inns &amp; 71 runs</td>\n",
       "      <td>Bengaluru</td>\n",
       "      <td>Mar 2-6, 2000</td>\n",
       "      <td>We got winner</td>\n",
       "      <td>2000</td>\n",
       "      <td>lost</td>\n",
       "    </tr>\n",
       "    <tr>\n",
       "      <th>34</th>\n",
       "      <td>India</td>\n",
       "      <td>Zimbabwe</td>\n",
       "      <td>India</td>\n",
       "      <td>7 wickets</td>\n",
       "      <td>Delhi</td>\n",
       "      <td>Nov 18-22, 2000</td>\n",
       "      <td>We got winner</td>\n",
       "      <td>2000</td>\n",
       "      <td>won</td>\n",
       "    </tr>\n",
       "    <tr>\n",
       "      <th>36</th>\n",
       "      <td>India</td>\n",
       "      <td>Zimbabwe</td>\n",
       "      <td>drawn</td>\n",
       "      <td>0</td>\n",
       "      <td>Nagpur</td>\n",
       "      <td>Nov 25-29, 2000</td>\n",
       "      <td>no result</td>\n",
       "      <td>2000</td>\n",
       "      <td>drawn</td>\n",
       "    </tr>\n",
       "    <tr>\n",
       "      <th>4</th>\n",
       "      <td>India</td>\n",
       "      <td>Australia</td>\n",
       "      <td>Australia</td>\n",
       "      <td>10 wickets</td>\n",
       "      <td>Mumbai</td>\n",
       "      <td>Feb 27-Mar 1, 2001</td>\n",
       "      <td>We got winner</td>\n",
       "      <td>2001</td>\n",
       "      <td>lost</td>\n",
       "    </tr>\n",
       "    <tr>\n",
       "      <th>...</th>\n",
       "      <td>...</td>\n",
       "      <td>...</td>\n",
       "      <td>...</td>\n",
       "      <td>...</td>\n",
       "      <td>...</td>\n",
       "      <td>...</td>\n",
       "      <td>...</td>\n",
       "      <td>...</td>\n",
       "      <td>...</td>\n",
       "    </tr>\n",
       "    <tr>\n",
       "      <th>12</th>\n",
       "      <td>India</td>\n",
       "      <td>England</td>\n",
       "      <td>India</td>\n",
       "      <td>10 wickets</td>\n",
       "      <td>Ahmedabad</td>\n",
       "      <td>Feb 24-25, 2021</td>\n",
       "      <td>We got winner</td>\n",
       "      <td>2021</td>\n",
       "      <td>won</td>\n",
       "    </tr>\n",
       "    <tr>\n",
       "      <th>14</th>\n",
       "      <td>India</td>\n",
       "      <td>England</td>\n",
       "      <td>India</td>\n",
       "      <td>inns &amp; 25 runs</td>\n",
       "      <td>Ahmedabad</td>\n",
       "      <td>Mar 4-6, 2021</td>\n",
       "      <td>We got winner</td>\n",
       "      <td>2021</td>\n",
       "      <td>won</td>\n",
       "    </tr>\n",
       "    <tr>\n",
       "      <th>25</th>\n",
       "      <td>India</td>\n",
       "      <td>New Zealand</td>\n",
       "      <td>New Zealand</td>\n",
       "      <td>8 wickets</td>\n",
       "      <td>Southampton</td>\n",
       "      <td>Jun 18-23, 2021</td>\n",
       "      <td>We got winner</td>\n",
       "      <td>2021</td>\n",
       "      <td>lost</td>\n",
       "    </tr>\n",
       "    <tr>\n",
       "      <th>35</th>\n",
       "      <td>India</td>\n",
       "      <td>New Zealand</td>\n",
       "      <td>drawn</td>\n",
       "      <td>0</td>\n",
       "      <td>Kanpur</td>\n",
       "      <td>Nov 25-29, 2021</td>\n",
       "      <td>no result</td>\n",
       "      <td>2021</td>\n",
       "      <td>drawn</td>\n",
       "    </tr>\n",
       "    <tr>\n",
       "      <th>38</th>\n",
       "      <td>India</td>\n",
       "      <td>New Zealand</td>\n",
       "      <td>India</td>\n",
       "      <td>372 runs</td>\n",
       "      <td>Mumbai</td>\n",
       "      <td>Dec 3-6, 2021</td>\n",
       "      <td>We got winner</td>\n",
       "      <td>2021</td>\n",
       "      <td>won</td>\n",
       "    </tr>\n",
       "  </tbody>\n",
       "</table>\n",
       "<p>104 rows × 9 columns</p>\n",
       "</div>"
      ],
      "text/plain": [
       "   host_team     away_team        winner          margin       ground  \\\n",
       "3      India  South Africa  South Africa       4 wickets       Mumbai   \n",
       "5      India  South Africa  South Africa  inns & 71 runs    Bengaluru   \n",
       "34     India      Zimbabwe         India       7 wickets        Delhi   \n",
       "36     India      Zimbabwe         drawn               0       Nagpur   \n",
       "4      India     Australia     Australia      10 wickets       Mumbai   \n",
       "..       ...           ...           ...             ...          ...   \n",
       "12     India       England         India      10 wickets    Ahmedabad   \n",
       "14     India       England         India  inns & 25 runs    Ahmedabad   \n",
       "25     India   New Zealand   New Zealand       8 wickets  Southampton   \n",
       "35     India   New Zealand         drawn               0       Kanpur   \n",
       "38     India   New Zealand         India        372 runs       Mumbai   \n",
       "\n",
       "            match_date         result  year winning_team  \n",
       "3      Feb 24-26, 2000  We got winner  2000         lost  \n",
       "5        Mar 2-6, 2000  We got winner  2000         lost  \n",
       "34     Nov 18-22, 2000  We got winner  2000          won  \n",
       "36     Nov 25-29, 2000      no result  2000        drawn  \n",
       "4   Feb 27-Mar 1, 2001  We got winner  2001         lost  \n",
       "..                 ...            ...   ...          ...  \n",
       "12     Feb 24-25, 2021  We got winner  2021          won  \n",
       "14       Mar 4-6, 2021  We got winner  2021          won  \n",
       "25     Jun 18-23, 2021  We got winner  2021         lost  \n",
       "35     Nov 25-29, 2021      no result  2021        drawn  \n",
       "38       Dec 3-6, 2021  We got winner  2021          won  \n",
       "\n",
       "[104 rows x 9 columns]"
      ]
     },
     "execution_count": 48,
     "metadata": {},
     "output_type": "execute_result"
    }
   ],
   "source": [
    "data_india"
   ]
  },
  {
   "cell_type": "code",
   "execution_count": 49,
   "id": "215badf8",
   "metadata": {
    "execution": {
     "iopub.execute_input": "2022-02-08T06:06:29.652324Z",
     "iopub.status.busy": "2022-02-08T06:06:29.651665Z",
     "iopub.status.idle": "2022-02-08T06:06:29.654612Z",
     "shell.execute_reply": "2022-02-08T06:06:29.654029Z",
     "shell.execute_reply.started": "2022-02-08T05:07:16.466809Z"
    },
    "papermill": {
     "duration": 0.09063,
     "end_time": "2022-02-08T06:06:29.654755",
     "exception": false,
     "start_time": "2022-02-08T06:06:29.564125",
     "status": "completed"
    },
    "tags": []
   },
   "outputs": [],
   "source": [
    "india_tourist ={}\n",
    "for matches, teams in enumerate(data_india['away_team'].value_counts().index.tolist()):\n",
    "    india_tourist[teams] = data_india['away_team'].value_counts()[matches]\n"
   ]
  },
  {
   "cell_type": "code",
   "execution_count": 50,
   "id": "1ad427b5",
   "metadata": {
    "execution": {
     "iopub.execute_input": "2022-02-08T06:06:29.820712Z",
     "iopub.status.busy": "2022-02-08T06:06:29.817070Z",
     "iopub.status.idle": "2022-02-08T06:06:29.824130Z",
     "shell.execute_reply": "2022-02-08T06:06:29.823638Z",
     "shell.execute_reply.started": "2022-02-08T05:07:19.906415Z"
    },
    "papermill": {
     "duration": 0.09152,
     "end_time": "2022-02-08T06:06:29.824277",
     "exception": false,
     "start_time": "2022-02-08T06:06:29.732757",
     "status": "completed"
    },
    "tags": []
   },
   "outputs": [
    {
     "data": {
      "text/plain": [
       "{'Australia': 25,\n",
       " 'England': 25,\n",
       " 'West Indies': 18,\n",
       " 'South Africa': 16,\n",
       " 'Sri Lanka': 15,\n",
       " 'New Zealand': 9,\n",
       " 'Bangladesh': 8,\n",
       " 'Pakistan': 6,\n",
       " 'Zimbabwe': 4}"
      ]
     },
     "execution_count": 50,
     "metadata": {},
     "output_type": "execute_result"
    }
   ],
   "source": [
    "opp ={}\n",
    "for matches, teams in enumerate(data_india_away['host_team'].value_counts().index.tolist()):\n",
    "    opp[teams] = data_india_away['host_team'].value_counts()[matches]\n",
    "opp"
   ]
  },
  {
   "cell_type": "code",
   "execution_count": 51,
   "id": "4fc9a7fa",
   "metadata": {
    "execution": {
     "iopub.execute_input": "2022-02-08T06:06:30.048978Z",
     "iopub.status.busy": "2022-02-08T06:06:30.048155Z",
     "iopub.status.idle": "2022-02-08T06:06:30.051608Z",
     "shell.execute_reply": "2022-02-08T06:06:30.051129Z",
     "shell.execute_reply.started": "2022-02-08T05:07:23.130969Z"
    },
    "papermill": {
     "duration": 0.088635,
     "end_time": "2022-02-08T06:06:30.051758",
     "exception": false,
     "start_time": "2022-02-08T06:06:29.963123",
     "status": "completed"
    },
    "tags": []
   },
   "outputs": [],
   "source": [
    "for i in india_tourist.keys():\n",
    "    india_tourist[i] = 0\n"
   ]
  },
  {
   "cell_type": "code",
   "execution_count": 52,
   "id": "ac24d692",
   "metadata": {
    "execution": {
     "iopub.execute_input": "2022-02-08T06:06:30.221913Z",
     "iopub.status.busy": "2022-02-08T06:06:30.221246Z",
     "iopub.status.idle": "2022-02-08T06:06:30.223435Z",
     "shell.execute_reply": "2022-02-08T06:06:30.222973Z",
     "shell.execute_reply.started": "2022-02-08T05:07:26.515493Z"
    },
    "papermill": {
     "duration": 0.092648,
     "end_time": "2022-02-08T06:06:30.223592",
     "exception": false,
     "start_time": "2022-02-08T06:06:30.130944",
     "status": "completed"
    },
    "tags": []
   },
   "outputs": [],
   "source": [
    "india_tourist_result_won = india_tourist.copy()\n",
    "india_tourist_result_lost = india_tourist.copy()\n",
    "india_tourist_result_drawn = india_tourist.copy()\n",
    "for index, row in data_india.iterrows():\n",
    "    if row['winning_team'] == 'won':\n",
    "        india_tourist_result_won[row['away_team']] = india_tourist_result_won[row['away_team']] + 1\n",
    "    elif row['winning_team'] == 'drawn':\n",
    "        india_tourist_result_drawn[row['away_team']] = india_tourist_result_drawn[row['away_team']] + 1\n",
    "    else:\n",
    "        india_tourist_result_lost[row['away_team']] = india_tourist_result_lost[row['away_team']] + 1\n"
   ]
  },
  {
   "cell_type": "markdown",
   "id": "bb2ccda9",
   "metadata": {
    "papermill": {
     "duration": 0.079766,
     "end_time": "2022-02-08T06:06:30.382048",
     "exception": false,
     "start_time": "2022-02-08T06:06:30.302282",
     "status": "completed"
    },
    "tags": []
   },
   "source": [
    "## now let's see the performance of India in india by different opponents"
   ]
  },
  {
   "cell_type": "code",
   "execution_count": 53,
   "id": "f3917ddb",
   "metadata": {
    "execution": {
     "iopub.execute_input": "2022-02-08T06:06:30.558647Z",
     "iopub.status.busy": "2022-02-08T06:06:30.555884Z",
     "iopub.status.idle": "2022-02-08T06:06:30.841726Z",
     "shell.execute_reply": "2022-02-08T06:06:30.842153Z",
     "shell.execute_reply.started": "2022-02-08T05:07:29.681124Z"
    },
    "papermill": {
     "duration": 0.381984,
     "end_time": "2022-02-08T06:06:30.842319",
     "exception": false,
     "start_time": "2022-02-08T06:06:30.460335",
     "status": "completed"
    },
    "tags": []
   },
   "outputs": [
    {
     "data": {
      "image/png": "[encoded data removed]",
      "text/plain": [
       "<Figure size 1440x576 with 1 Axes>"
      ]
     },
     "metadata": {
      "needs_background": "light"
     },
     "output_type": "display_data"
    }
   ],
   "source": [
    "x = list(india_tourist_result_won.keys())\n",
    "y1 = np.array(list(india_tourist_result_won.values()))\n",
    "y2 = np.array(list(india_tourist_result_drawn.values()))\n",
    "y3 = np.array(list(india_tourist_result_lost.values()))\n",
    "plt.figure(figsize = (20,8))\n",
    "plt.bar(x, y1, color = 'c')\n",
    "plt.bar(x, y2, bottom = y1, color = 'b')\n",
    "plt.bar(x, y3, bottom = y1+y2, color = 'm')\n",
    "plt.xlabel(\"tourist teams\")\n",
    "plt.ylabel(\"results\")\n",
    "plt.legend(['Won','drawn','lost'])\n",
    "plt.title(\"home match results against different oponents\")\n",
    "plt.show()"
   ]
  },
  {
   "cell_type": "code",
   "execution_count": 54,
   "id": "56c90b38",
   "metadata": {
    "execution": {
     "iopub.execute_input": "2022-02-08T06:06:31.008975Z",
     "iopub.status.busy": "2022-02-08T06:06:31.008336Z",
     "iopub.status.idle": "2022-02-08T06:06:31.012878Z",
     "shell.execute_reply": "2022-02-08T06:06:31.012337Z",
     "shell.execute_reply.started": "2022-02-08T05:13:32.802025Z"
    },
    "papermill": {
     "duration": 0.088534,
     "end_time": "2022-02-08T06:06:31.013021",
     "exception": false,
     "start_time": "2022-02-08T06:06:30.924487",
     "status": "completed"
    },
    "tags": []
   },
   "outputs": [],
   "source": [
    "india_away_result = {}\n",
    "for i in data_india_away['host_team'].unique():\n",
    "    india_away_result[i] = 0"
   ]
  },
  {
   "cell_type": "code",
   "execution_count": 55,
   "id": "b9031f57",
   "metadata": {
    "execution": {
     "iopub.execute_input": "2022-02-08T06:06:31.185379Z",
     "iopub.status.busy": "2022-02-08T06:06:31.184723Z",
     "iopub.status.idle": "2022-02-08T06:06:31.190313Z",
     "shell.execute_reply": "2022-02-08T06:06:31.189784Z",
     "shell.execute_reply.started": "2022-02-08T05:13:35.356049Z"
    },
    "papermill": {
     "duration": 0.096712,
     "end_time": "2022-02-08T06:06:31.190454",
     "exception": false,
     "start_time": "2022-02-08T06:06:31.093742",
     "status": "completed"
    },
    "tags": []
   },
   "outputs": [],
   "source": [
    "india_away_won = india_away_result.copy()\n",
    "india_away_drawn = india_away_result.copy()\n",
    "india_away_lost = india_away_result.copy()\n",
    "for index, row in data_india_away.iterrows():\n",
    "    if row['winning_team'] == 'won':\n",
    "        india_away_won[row['host_team']] = india_away_won[row['host_team']] + 1\n",
    "    elif row['winning_team'] == 'drawn':\n",
    "        india_away_drawn[row['host_team']] = india_away_drawn[row['host_team']] + 1\n",
    "    else:\n",
    "        india_away_lost[row['host_team']] = india_away_lost[row['host_team']] + 1\n",
    "\n"
   ]
  },
  {
   "cell_type": "code",
   "execution_count": 56,
   "id": "75907bd1",
   "metadata": {
    "execution": {
     "iopub.execute_input": "2022-02-08T06:06:31.354082Z",
     "iopub.status.busy": "2022-02-08T06:06:31.353432Z",
     "iopub.status.idle": "2022-02-08T06:06:31.364602Z",
     "shell.execute_reply": "2022-02-08T06:06:31.365064Z",
     "shell.execute_reply.started": "2022-02-08T05:19:09.830815Z"
    },
    "papermill": {
     "duration": 0.094048,
     "end_time": "2022-02-08T06:06:31.365248",
     "exception": false,
     "start_time": "2022-02-08T06:06:31.271200",
     "status": "completed"
    },
    "tags": []
   },
   "outputs": [],
   "source": [
    "win_per_home = {}\n",
    "for j in data_india['year'].unique():\n",
    "    win_per_home[j] = 0\n",
    "lose_home = win_per_home.copy()\n",
    "draw_home = win_per_home.copy()\n",
    "for index, row in data_india.iterrows():\n",
    "    if row['winning_team'] == 'won':\n",
    "        win_per_home[row['year']] += 1\n",
    "    elif row['winning_team'] == 'drawn':\n",
    "        draw_home[row['year']] += 1\n",
    "    else:\n",
    "        lose_home[row['year']] += 1\n",
    "        \n",
    "            "
   ]
  },
  {
   "cell_type": "markdown",
   "id": "5e29c8bf",
   "metadata": {
    "papermill": {
     "duration": 0.080246,
     "end_time": "2022-02-08T06:06:31.525345",
     "exception": false,
     "start_time": "2022-02-08T06:06:31.445099",
     "status": "completed"
    },
    "tags": []
   },
   "source": [
    "## and outside of India by different opponents"
   ]
  },
  {
   "cell_type": "code",
   "execution_count": 57,
   "id": "98b00fbe",
   "metadata": {
    "execution": {
     "iopub.execute_input": "2022-02-08T06:06:31.706759Z",
     "iopub.status.busy": "2022-02-08T06:06:31.702697Z",
     "iopub.status.idle": "2022-02-08T06:06:31.981667Z",
     "shell.execute_reply": "2022-02-08T06:06:31.981064Z",
     "shell.execute_reply.started": "2022-02-08T05:19:13.945708Z"
    },
    "papermill": {
     "duration": 0.376753,
     "end_time": "2022-02-08T06:06:31.981807",
     "exception": false,
     "start_time": "2022-02-08T06:06:31.605054",
     "status": "completed"
    },
    "tags": []
   },
   "outputs": [
    {
     "data": {
      "image/png": "[encoded data removed]",
      "text/plain": [
       "<Figure size 1440x576 with 1 Axes>"
      ]
     },
     "metadata": {
      "needs_background": "light"
     },
     "output_type": "display_data"
    }
   ],
   "source": [
    "x = list(india_away_won.keys())\n",
    "y1 = np.array(list(india_away_won.values()))\n",
    "y2 = np.array(list(india_away_drawn.values()))\n",
    "y3 = np.array(list(india_away_lost.values()))\n",
    "plt.figure(figsize = (20,8))\n",
    "plt.bar(x, y1, color = 'g')\n",
    "plt.bar(x, y2, bottom = y1, color = 'b')\n",
    "plt.bar(x, y3, bottom = y1+y2, color = 'r')\n",
    "plt.xlabel(\"Hosting teams\")\n",
    "plt.ylabel(\"results\")\n",
    "plt.legend(['Won','drawn','lost'])\n",
    "plt.title(\"Match results against different oponents in their home\")\n",
    "plt.show()"
   ]
  },
  {
   "cell_type": "code",
   "execution_count": 58,
   "id": "b01795fe",
   "metadata": {
    "execution": {
     "iopub.execute_input": "2022-02-08T06:06:32.150563Z",
     "iopub.status.busy": "2022-02-08T06:06:32.149786Z",
     "iopub.status.idle": "2022-02-08T06:06:32.153163Z",
     "shell.execute_reply": "2022-02-08T06:06:32.152672Z",
     "shell.execute_reply.started": "2022-02-08T05:20:27.867440Z"
    },
    "papermill": {
     "duration": 0.090199,
     "end_time": "2022-02-08T06:06:32.153305",
     "exception": false,
     "start_time": "2022-02-08T06:06:32.063106",
     "status": "completed"
    },
    "tags": []
   },
   "outputs": [
    {
     "data": {
      "text/plain": [
       "{'2000': 50.0,\n",
       " '2001': 16.666666666666664,\n",
       " '2002': 0.0,\n",
       " '2003': 0.0,\n",
       " '2004': 33.33333333333333,\n",
       " '2005': 16.666666666666664,\n",
       " '2006': 33.33333333333333,\n",
       " '2007': 0.0,\n",
       " '2008': 11.11111111111111,\n",
       " '2009': 0.0,\n",
       " '2010': 14.285714285714285,\n",
       " '2011': 0.0,\n",
       " '2012': 33.33333333333333,\n",
       " '2013': 0.0,\n",
       " '2015': 0.0,\n",
       " '2016': 0.0,\n",
       " '2017': 12.5,\n",
       " '2018': 0.0,\n",
       " '2019': 0.0,\n",
       " '2021': 28.57142857142857}"
      ]
     },
     "execution_count": 58,
     "metadata": {},
     "output_type": "execute_result"
    }
   ],
   "source": [
    "lose_home_per = {}\n",
    "for kry in lose_home.keys():\n",
    "    lose_home_per[kry] = (lose_home[kry]/(win_per_home[kry]+draw_home[kry] + lose_home[kry]))*100\n",
    "lose_home_per"
   ]
  },
  {
   "cell_type": "code",
   "execution_count": 59,
   "id": "fb040dc7",
   "metadata": {
    "execution": {
     "iopub.execute_input": "2022-02-08T06:06:32.317633Z",
     "iopub.status.busy": "2022-02-08T06:06:32.317019Z",
     "iopub.status.idle": "2022-02-08T06:06:32.320297Z",
     "shell.execute_reply": "2022-02-08T06:06:32.320932Z",
     "shell.execute_reply.started": "2022-02-06T12:50:47.754739Z"
    },
    "papermill": {
     "duration": 0.087004,
     "end_time": "2022-02-08T06:06:32.321125",
     "exception": false,
     "start_time": "2022-02-08T06:06:32.234121",
     "status": "completed"
    },
    "tags": []
   },
   "outputs": [],
   "source": [
    "#win_per_home\n",
    "#draw_home\n",
    "#lose_home"
   ]
  },
  {
   "cell_type": "code",
   "execution_count": 60,
   "id": "27a7e4d0",
   "metadata": {
    "execution": {
     "iopub.execute_input": "2022-02-08T06:06:32.486286Z",
     "iopub.status.busy": "2022-02-08T06:06:32.485598Z",
     "iopub.status.idle": "2022-02-08T06:06:32.491450Z",
     "shell.execute_reply": "2022-02-08T06:06:32.492035Z",
     "shell.execute_reply.started": "2022-02-08T05:20:31.891443Z"
    },
    "papermill": {
     "duration": 0.089734,
     "end_time": "2022-02-08T06:06:32.492217",
     "exception": false,
     "start_time": "2022-02-08T06:06:32.402483",
     "status": "completed"
    },
    "tags": []
   },
   "outputs": [
    {
     "data": {
      "text/plain": [
       "{'2000': 25.0,\n",
       " '2001': 50.0,\n",
       " '2002': 80.0,\n",
       " '2003': 0.0,\n",
       " '2004': 33.33333333333333,\n",
       " '2005': 50.0,\n",
       " '2006': 33.33333333333333,\n",
       " '2007': 33.33333333333333,\n",
       " '2008': 44.44444444444444,\n",
       " '2009': 66.66666666666666,\n",
       " '2010': 57.14285714285714,\n",
       " '2011': 66.66666666666666,\n",
       " '2012': 50.0,\n",
       " '2013': 100.0,\n",
       " '2015': 75.0,\n",
       " '2016': 87.5,\n",
       " '2017': 50.0,\n",
       " '2018': 100.0,\n",
       " '2019': 100.0,\n",
       " '2021': 57.14285714285714}"
      ]
     },
     "execution_count": 60,
     "metadata": {},
     "output_type": "execute_result"
    }
   ],
   "source": [
    "for key in win_per_home.keys():\n",
    "    win_per_home[key] = (win_per_home[key]/(win_per_home[key] + lose_home[key] + draw_home[key]))*100\n",
    "win_per_home"
   ]
  },
  {
   "cell_type": "markdown",
   "id": "fd061677",
   "metadata": {
    "papermill": {
     "duration": 0.081233,
     "end_time": "2022-02-08T06:06:32.656437",
     "exception": false,
     "start_time": "2022-02-08T06:06:32.575204",
     "status": "completed"
    },
    "tags": []
   },
   "source": [
    "## This plot shows win and lose percentages at home"
   ]
  },
  {
   "cell_type": "code",
   "execution_count": 61,
   "id": "4949ac7c",
   "metadata": {
    "execution": {
     "iopub.execute_input": "2022-02-08T06:06:32.823014Z",
     "iopub.status.busy": "2022-02-08T06:06:32.822062Z",
     "iopub.status.idle": "2022-02-08T06:06:33.103929Z",
     "shell.execute_reply": "2022-02-08T06:06:33.104390Z",
     "shell.execute_reply.started": "2022-02-08T05:20:45.211041Z"
    },
    "papermill": {
     "duration": 0.366972,
     "end_time": "2022-02-08T06:06:33.104553",
     "exception": false,
     "start_time": "2022-02-08T06:06:32.737581",
     "status": "completed"
    },
    "tags": []
   },
   "outputs": [
    {
     "data": {
      "image/png": "[encoded data removed]",
      "text/plain": [
       "<Figure size 1296x576 with 1 Axes>"
      ]
     },
     "metadata": {
      "needs_background": "light"
     },
     "output_type": "display_data"
    }
   ],
   "source": [
    "x_year = np.array(list(win_per_home.keys()))\n",
    "percentages = np.array(list(win_per_home.values()))\n",
    "lose_per = np.array(list(lose_home_per.values()))\n",
    "plt.figure(figsize = (18,8))\n",
    "plt.plot(x_year, percentages, 'mH--')\n",
    "plt.plot(x_year, lose_per, 'b+:')\n",
    "plt.title(\"home performance\")\n",
    "plt.legend(labels = ['win percentage', 'lose percentage'])\n",
    "plt.show()"
   ]
  },
  {
   "cell_type": "markdown",
   "id": "60ce03fc",
   "metadata": {
    "papermill": {
     "duration": 0.0825,
     "end_time": "2022-02-08T06:06:33.271869",
     "exception": false,
     "start_time": "2022-02-08T06:06:33.189369",
     "status": "completed"
    },
    "tags": []
   },
   "source": [
    "# <span style = \"color :blue;\">Back to whole world</span>"
   ]
  },
  {
   "cell_type": "code",
   "execution_count": 62,
   "id": "282acd45",
   "metadata": {
    "execution": {
     "iopub.execute_input": "2022-02-08T06:06:33.449542Z",
     "iopub.status.busy": "2022-02-08T06:06:33.448802Z",
     "iopub.status.idle": "2022-02-08T06:06:33.457616Z",
     "shell.execute_reply": "2022-02-08T06:06:33.458062Z",
     "shell.execute_reply.started": "2022-02-08T05:20:37.767733Z"
    },
    "papermill": {
     "duration": 0.103612,
     "end_time": "2022-02-08T06:06:33.458238",
     "exception": false,
     "start_time": "2022-02-08T06:06:33.354626",
     "status": "completed"
    },
    "tags": []
   },
   "outputs": [
    {
     "data": {
      "text/html": [
       "<div>\n",
       "<style scoped>\n",
       "    .dataframe tbody tr th:only-of-type {\n",
       "        vertical-align: middle;\n",
       "    }\n",
       "\n",
       "    .dataframe tbody tr th {\n",
       "        vertical-align: top;\n",
       "    }\n",
       "\n",
       "    .dataframe thead th {\n",
       "        text-align: right;\n",
       "    }\n",
       "</style>\n",
       "<table border=\"1\" class=\"dataframe\">\n",
       "  <thead>\n",
       "    <tr style=\"text-align: right;\">\n",
       "      <th></th>\n",
       "      <th>host_team</th>\n",
       "      <th>away_team</th>\n",
       "      <th>winner</th>\n",
       "      <th>margin</th>\n",
       "      <th>ground</th>\n",
       "      <th>match_date</th>\n",
       "      <th>result</th>\n",
       "      <th>year</th>\n",
       "    </tr>\n",
       "  </thead>\n",
       "  <tbody>\n",
       "    <tr>\n",
       "      <th>0</th>\n",
       "      <td>Australia</td>\n",
       "      <td>India</td>\n",
       "      <td>Australia</td>\n",
       "      <td>inns &amp; 141 runs</td>\n",
       "      <td>Sydney</td>\n",
       "      <td>Jan 2-4, 2000</td>\n",
       "      <td>We got winner</td>\n",
       "      <td>2000</td>\n",
       "    </tr>\n",
       "    <tr>\n",
       "      <th>1</th>\n",
       "      <td>South Africa</td>\n",
       "      <td>England</td>\n",
       "      <td>South Africa</td>\n",
       "      <td>inns &amp; 37 runs</td>\n",
       "      <td>Cape Town</td>\n",
       "      <td>Jan 2-5, 2000</td>\n",
       "      <td>We got winner</td>\n",
       "      <td>2000</td>\n",
       "    </tr>\n",
       "    <tr>\n",
       "      <th>2</th>\n",
       "      <td>South Africa</td>\n",
       "      <td>England</td>\n",
       "      <td>England</td>\n",
       "      <td>2 wickets</td>\n",
       "      <td>Centurion</td>\n",
       "      <td>Jan 14-18, 2000</td>\n",
       "      <td>We got winner</td>\n",
       "      <td>2000</td>\n",
       "    </tr>\n",
       "    <tr>\n",
       "      <th>3</th>\n",
       "      <td>India</td>\n",
       "      <td>South Africa</td>\n",
       "      <td>South Africa</td>\n",
       "      <td>4 wickets</td>\n",
       "      <td>Mumbai</td>\n",
       "      <td>Feb 24-26, 2000</td>\n",
       "      <td>We got winner</td>\n",
       "      <td>2000</td>\n",
       "    </tr>\n",
       "    <tr>\n",
       "      <th>4</th>\n",
       "      <td>Pakistan</td>\n",
       "      <td>Sri Lanka</td>\n",
       "      <td>Sri Lanka</td>\n",
       "      <td>2 wickets</td>\n",
       "      <td>Rawalpindi</td>\n",
       "      <td>Feb 26-Mar 1, 2000</td>\n",
       "      <td>We got winner</td>\n",
       "      <td>2000</td>\n",
       "    </tr>\n",
       "    <tr>\n",
       "      <th>...</th>\n",
       "      <td>...</td>\n",
       "      <td>...</td>\n",
       "      <td>...</td>\n",
       "      <td>...</td>\n",
       "      <td>...</td>\n",
       "      <td>...</td>\n",
       "      <td>...</td>\n",
       "      <td>...</td>\n",
       "    </tr>\n",
       "    <tr>\n",
       "      <th>1</th>\n",
       "      <td>South Africa</td>\n",
       "      <td>India</td>\n",
       "      <td>South Africa</td>\n",
       "      <td>7 wickets</td>\n",
       "      <td>Johannesburg</td>\n",
       "      <td>Jan 3-6, 2022</td>\n",
       "      <td>We got winner</td>\n",
       "      <td>2022</td>\n",
       "    </tr>\n",
       "    <tr>\n",
       "      <th>2</th>\n",
       "      <td>Australia</td>\n",
       "      <td>England</td>\n",
       "      <td>drawn</td>\n",
       "      <td>0</td>\n",
       "      <td>Sydney</td>\n",
       "      <td>Jan 5-9, 2022</td>\n",
       "      <td>no result</td>\n",
       "      <td>2022</td>\n",
       "    </tr>\n",
       "    <tr>\n",
       "      <th>3</th>\n",
       "      <td>New Zealand</td>\n",
       "      <td>Bangladesh</td>\n",
       "      <td>New Zealand</td>\n",
       "      <td>inns &amp; 117 runs</td>\n",
       "      <td>Christchurch</td>\n",
       "      <td>Jan 9-11, 2022</td>\n",
       "      <td>We got winner</td>\n",
       "      <td>2022</td>\n",
       "    </tr>\n",
       "    <tr>\n",
       "      <th>4</th>\n",
       "      <td>South Africa</td>\n",
       "      <td>India</td>\n",
       "      <td>South Africa</td>\n",
       "      <td>7 wickets</td>\n",
       "      <td>Cape Town</td>\n",
       "      <td>Jan 11-14, 2022</td>\n",
       "      <td>We got winner</td>\n",
       "      <td>2022</td>\n",
       "    </tr>\n",
       "    <tr>\n",
       "      <th>5</th>\n",
       "      <td>Australia</td>\n",
       "      <td>England</td>\n",
       "      <td>Australia</td>\n",
       "      <td>146 runs</td>\n",
       "      <td>Hobart</td>\n",
       "      <td>Jan 14-16, 2022</td>\n",
       "      <td>We got winner</td>\n",
       "      <td>2022</td>\n",
       "    </tr>\n",
       "  </tbody>\n",
       "</table>\n",
       "<p>970 rows × 8 columns</p>\n",
       "</div>"
      ],
      "text/plain": [
       "       host_team     away_team        winner           margin        ground  \\\n",
       "0      Australia         India     Australia  inns & 141 runs        Sydney   \n",
       "1   South Africa       England  South Africa   inns & 37 runs     Cape Town   \n",
       "2   South Africa       England       England        2 wickets     Centurion   \n",
       "3          India  South Africa  South Africa        4 wickets        Mumbai   \n",
       "4       Pakistan     Sri Lanka     Sri Lanka        2 wickets    Rawalpindi   \n",
       "..           ...           ...           ...              ...           ...   \n",
       "1   South Africa         India  South Africa        7 wickets  Johannesburg   \n",
       "2      Australia       England         drawn                0        Sydney   \n",
       "3    New Zealand    Bangladesh   New Zealand  inns & 117 runs  Christchurch   \n",
       "4   South Africa         India  South Africa        7 wickets     Cape Town   \n",
       "5      Australia       England     Australia         146 runs        Hobart   \n",
       "\n",
       "            match_date         result  year  \n",
       "0        Jan 2-4, 2000  We got winner  2000  \n",
       "1        Jan 2-5, 2000  We got winner  2000  \n",
       "2      Jan 14-18, 2000  We got winner  2000  \n",
       "3      Feb 24-26, 2000  We got winner  2000  \n",
       "4   Feb 26-Mar 1, 2000  We got winner  2000  \n",
       "..                 ...            ...   ...  \n",
       "1        Jan 3-6, 2022  We got winner  2022  \n",
       "2        Jan 5-9, 2022      no result  2022  \n",
       "3       Jan 9-11, 2022  We got winner  2022  \n",
       "4      Jan 11-14, 2022  We got winner  2022  \n",
       "5      Jan 14-16, 2022  We got winner  2022  \n",
       "\n",
       "[970 rows x 8 columns]"
      ]
     },
     "execution_count": 62,
     "metadata": {},
     "output_type": "execute_result"
    }
   ],
   "source": [
    "data"
   ]
  },
  {
   "cell_type": "code",
   "execution_count": 63,
   "id": "996fdead",
   "metadata": {
    "execution": {
     "iopub.execute_input": "2022-02-08T06:06:33.650387Z",
     "iopub.status.busy": "2022-02-08T06:06:33.649682Z",
     "iopub.status.idle": "2022-02-08T06:06:33.654046Z",
     "shell.execute_reply": "2022-02-08T06:06:33.653269Z",
     "shell.execute_reply.started": "2022-02-08T05:21:55.530910Z"
    },
    "papermill": {
     "duration": 0.109015,
     "end_time": "2022-02-08T06:06:33.654227",
     "exception": false,
     "start_time": "2022-02-08T06:06:33.545212",
     "status": "completed"
    },
    "tags": []
   },
   "outputs": [],
   "source": [
    "#inning win at home\n",
    "inning_win = {}\n",
    "for team in data_india['away_team'].unique():\n",
    "    inning_win[team] = 0\n",
    "inning_lost = inning_win.copy()\n",
    "for index, row in data_india.iterrows():\n",
    "    if row['winning_team'] == 'won' and 'inns' in row['margin']:\n",
    "        inning_win[row['away_team']] +=1\n",
    "for index, row in data_india_away.iterrows():\n",
    "    if row['winning_team'] == 'lost' and 'inns' in row['margin']:\n",
    "        inning_lost[row['host_team']] += 1\n",
    "\n"
   ]
  },
  {
   "cell_type": "markdown",
   "id": "f775a3be",
   "metadata": {
    "papermill": {
     "duration": 0.08901,
     "end_time": "2022-02-08T06:06:33.831514",
     "exception": false,
     "start_time": "2022-02-08T06:06:33.742504",
     "status": "completed"
    },
    "tags": []
   },
   "source": [
    "## Inning win at home and inning defeat in away games for different teams"
   ]
  },
  {
   "cell_type": "code",
   "execution_count": 64,
   "id": "d76118c1",
   "metadata": {
    "execution": {
     "iopub.execute_input": "2022-02-08T06:06:34.026027Z",
     "iopub.status.busy": "2022-02-08T06:06:34.025261Z",
     "iopub.status.idle": "2022-02-08T06:06:34.265904Z",
     "shell.execute_reply": "2022-02-08T06:06:34.265328Z",
     "shell.execute_reply.started": "2022-02-08T05:21:59.680465Z"
    },
    "papermill": {
     "duration": 0.345079,
     "end_time": "2022-02-08T06:06:34.266045",
     "exception": false,
     "start_time": "2022-02-08T06:06:33.920966",
     "status": "completed"
    },
    "tags": []
   },
   "outputs": [
    {
     "data": {
      "image/png": "[encoded data removed]",
      "text/plain": [
       "<Figure size 1296x576 with 1 Axes>"
      ]
     },
     "metadata": {
      "needs_background": "light"
     },
     "output_type": "display_data"
    }
   ],
   "source": [
    "er = np.array(list(inning_win.keys()))\n",
    "et = np.array(list(inning_win.values()))\n",
    "es = np.array(list(inning_lost.values()))\n",
    "plt.figure(figsize = (18,8))\n",
    "plt.bar(er, et,color = 'g')\n",
    "plt.bar(er, es, bottom = et, color = 'm')\n",
    "plt.title(\"inning win at home and inning defeat in away\")\n",
    "plt.legend(['inning win at home', 'inning defeat in away'])\n",
    "plt.show()\n"
   ]
  },
  {
   "cell_type": "code",
   "execution_count": 65,
   "id": "0a0d9fe5",
   "metadata": {
    "execution": {
     "iopub.execute_input": "2022-02-08T06:06:34.450126Z",
     "iopub.status.busy": "2022-02-08T06:06:34.449440Z",
     "iopub.status.idle": "2022-02-08T06:06:34.501392Z",
     "shell.execute_reply": "2022-02-08T06:06:34.500514Z",
     "shell.execute_reply.started": "2022-02-08T05:22:48.466181Z"
    },
    "papermill": {
     "duration": 0.149403,
     "end_time": "2022-02-08T06:06:34.501562",
     "exception": false,
     "start_time": "2022-02-08T06:06:34.352159",
     "status": "completed"
    },
    "tags": []
   },
   "outputs": [],
   "source": [
    "home_win = {}\n",
    "for i in data['host_team'].unique():\n",
    "    home_win[i] = 0\n",
    "home_draw = home_win.copy()\n",
    "home_defeat = home_win.copy()\n",
    "for index, row in data.iterrows():\n",
    "    if row['host_team'] == row['winner']:\n",
    "        home_win[row['host_team']] += 1\n",
    "    elif row['away_team'] == row['winner']:\n",
    "        home_defeat[row['host_team']] += 1\n",
    "    else:\n",
    "        home_draw[row['host_team']] += 1\n",
    "#home_win\n",
    "#home_defeat\n",
    "#home_draw"
   ]
  },
  {
   "cell_type": "markdown",
   "id": "d941a4b9",
   "metadata": {
    "papermill": {
     "duration": 0.084402,
     "end_time": "2022-02-08T06:06:34.671128",
     "exception": false,
     "start_time": "2022-02-08T06:06:34.586726",
     "status": "completed"
    },
    "tags": []
   },
   "source": [
    "## As the plot title suggests"
   ]
  },
  {
   "cell_type": "code",
   "execution_count": 66,
   "id": "2ad42b09",
   "metadata": {
    "execution": {
     "iopub.execute_input": "2022-02-08T06:06:34.859213Z",
     "iopub.status.busy": "2022-02-08T06:06:34.857465Z",
     "iopub.status.idle": "2022-02-08T06:06:35.169540Z",
     "shell.execute_reply": "2022-02-08T06:06:35.169064Z",
     "shell.execute_reply.started": "2022-02-08T05:22:51.275723Z"
    },
    "papermill": {
     "duration": 0.413578,
     "end_time": "2022-02-08T06:06:35.169695",
     "exception": false,
     "start_time": "2022-02-08T06:06:34.756117",
     "status": "completed"
    },
    "tags": []
   },
   "outputs": [
    {
     "data": {
      "image/png": "[encoded data removed]",
      "text/plain": [
       "<Figure size 1296x576 with 1 Axes>"
      ]
     },
     "metadata": {
      "needs_background": "light"
     },
     "output_type": "display_data"
    }
   ],
   "source": [
    "x = np.array(list(home_win.keys()))\n",
    "y1 = np.array(list(home_win.values()))\n",
    "y2 = np.array(list(home_draw.values()))\n",
    "y3 = np.array(list(home_defeat.values()))\n",
    "plt.figure(figsize = (18,8))\n",
    "plt.bar(x, y1, color = 'green')\n",
    "plt.bar(x, y2, bottom = y1, color = 'blue')\n",
    "plt.bar(x, y3, bottom = y1+y2, color = 'red')\n",
    "plt.title(\"Home performance of different teams\")\n",
    "plt.legend(['win', 'draw','defeat'])\n",
    "plt.show()"
   ]
  },
  {
   "cell_type": "code",
   "execution_count": 67,
   "id": "0c8c0c5f",
   "metadata": {
    "execution": {
     "iopub.execute_input": "2022-02-08T06:06:35.406398Z",
     "iopub.status.busy": "2022-02-08T06:06:35.385445Z",
     "iopub.status.idle": "2022-02-08T06:06:35.408626Z",
     "shell.execute_reply": "2022-02-08T06:06:35.409093Z",
     "shell.execute_reply.started": "2022-02-08T05:23:15.101714Z"
    },
    "papermill": {
     "duration": 0.152343,
     "end_time": "2022-02-08T06:06:35.409285",
     "exception": false,
     "start_time": "2022-02-08T06:06:35.256942",
     "status": "completed"
    },
    "tags": []
   },
   "outputs": [],
   "source": [
    "away_win = {}\n",
    "for i in data['away_team'].unique():\n",
    "    away_win[i] = 0\n",
    "away_draw = away_win.copy()\n",
    "away_defeat = away_win.copy()\n",
    "for index, row in data.iterrows():\n",
    "    if row['away_team'] == row['winner']:\n",
    "        away_win[row['away_team']] += 1\n",
    "    elif row['host_team'] == row['winner']:\n",
    "        away_defeat[row['away_team']] += 1\n",
    "    else:\n",
    "        away_draw[row['away_team']] += 1"
   ]
  },
  {
   "cell_type": "markdown",
   "id": "7b7b2cca",
   "metadata": {
    "papermill": {
     "duration": 0.085681,
     "end_time": "2022-02-08T06:06:35.581567",
     "exception": false,
     "start_time": "2022-02-08T06:06:35.495886",
     "status": "completed"
    },
    "tags": []
   },
   "source": [
    "## same inference for away games"
   ]
  },
  {
   "cell_type": "code",
   "execution_count": 68,
   "id": "0bd412b2",
   "metadata": {
    "execution": {
     "iopub.execute_input": "2022-02-08T06:06:35.757458Z",
     "iopub.status.busy": "2022-02-08T06:06:35.756873Z",
     "iopub.status.idle": "2022-02-08T06:06:36.068584Z",
     "shell.execute_reply": "2022-02-08T06:06:36.068086Z",
     "shell.execute_reply.started": "2022-02-08T05:23:18.101274Z"
    },
    "papermill": {
     "duration": 0.40008,
     "end_time": "2022-02-08T06:06:36.068734",
     "exception": false,
     "start_time": "2022-02-08T06:06:35.668654",
     "status": "completed"
    },
    "tags": []
   },
   "outputs": [
    {
     "data": {
      "image/png": "[encoded data removed]",
      "text/plain": [
       "<Figure size 1296x576 with 1 Axes>"
      ]
     },
     "metadata": {
      "needs_background": "light"
     },
     "output_type": "display_data"
    }
   ],
   "source": [
    "x = np.array(list(away_win.keys()))\n",
    "y1 = np.array(list(away_win.values()))\n",
    "y2 = np.array(list(away_draw.values()))\n",
    "y3 = np.array(list(away_defeat.values()))\n",
    "plt.figure(figsize=(18,8))\n",
    "plt.bar(x, y1, color = 'green')\n",
    "plt.bar(x, y2, bottom = y1, color = 'blue')\n",
    "plt.bar(x, y3, bottom = y1+y2, color = 'red')\n",
    "plt.title(\"teams away performance\")\n",
    "plt.legend(['win', 'draw', 'defeat'])\n",
    "plt.show()"
   ]
  },
  {
   "cell_type": "markdown",
   "id": "e12fcc47",
   "metadata": {
    "papermill": {
     "duration": 0.085998,
     "end_time": "2022-02-08T06:06:36.242641",
     "exception": false,
     "start_time": "2022-02-08T06:06:36.156643",
     "status": "completed"
    },
    "tags": []
   },
   "source": [
    "## let's see which teams makes the bowlers friendly pitches"
   ]
  },
  {
   "cell_type": "code",
   "execution_count": 69,
   "id": "b531fde2",
   "metadata": {
    "execution": {
     "iopub.execute_input": "2022-02-08T06:06:36.435036Z",
     "iopub.status.busy": "2022-02-08T06:06:36.434337Z",
     "iopub.status.idle": "2022-02-08T06:06:36.473843Z",
     "shell.execute_reply": "2022-02-08T06:06:36.474377Z",
     "shell.execute_reply.started": "2022-02-08T05:24:07.631816Z"
    },
    "papermill": {
     "duration": 0.14433,
     "end_time": "2022-02-08T06:06:36.474544",
     "exception": false,
     "start_time": "2022-02-08T06:06:36.330214",
     "status": "completed"
    },
    "tags": []
   },
   "outputs": [
    {
     "data": {
      "text/plain": [
       "{'Australia': 104,\n",
       " 'South Africa': 96,\n",
       " 'India': 76,\n",
       " 'Pakistan': 56,\n",
       " 'New Zealand': 64,\n",
       " 'West Indies': 69,\n",
       " 'England': 118,\n",
       " 'Sri Lanka': 83,\n",
       " 'Zimbabwe': 35,\n",
       " 'Bangladesh': 54,\n",
       " 'Ireland': 1,\n",
       " 'Afghanistan': 4}"
      ]
     },
     "execution_count": 69,
     "metadata": {},
     "output_type": "execute_result"
    }
   ],
   "source": [
    "#which country pitches are bowlers friendly\n",
    "host_teams ={}\n",
    "for i in data['host_team'].unique():\n",
    "    host_teams[i] = 0\n",
    "host_teamss = host_teams.copy()\n",
    "for index, row in data.iterrows():\n",
    "    if row['result'] == 'We got winner':\n",
    "        host_teams[row['host_team']] += 1\n",
    "\n",
    "\n",
    "\n",
    "host_teams\n",
    "        "
   ]
  },
  {
   "cell_type": "code",
   "execution_count": 70,
   "id": "74136c9e",
   "metadata": {
    "execution": {
     "iopub.execute_input": "2022-02-08T06:06:36.656106Z",
     "iopub.status.busy": "2022-02-08T06:06:36.655467Z",
     "iopub.status.idle": "2022-02-08T06:06:36.666130Z",
     "shell.execute_reply": "2022-02-08T06:06:36.665489Z",
     "shell.execute_reply.started": "2022-02-08T05:24:10.400865Z"
    },
    "papermill": {
     "duration": 0.104255,
     "end_time": "2022-02-08T06:06:36.666274",
     "exception": false,
     "start_time": "2022-02-08T06:06:36.562019",
     "status": "completed"
    },
    "tags": []
   },
   "outputs": [],
   "source": [
    "total_matches_home = {}\n",
    "for matches, names in enumerate(data['host_team'].value_counts().index.tolist()):\n",
    "    total_matches_home[names] = data['host_team'].value_counts()[matches]\n"
   ]
  },
  {
   "cell_type": "code",
   "execution_count": 71,
   "id": "6bb0c3a1",
   "metadata": {
    "execution": {
     "iopub.execute_input": "2022-02-08T06:06:36.849644Z",
     "iopub.status.busy": "2022-02-08T06:06:36.848851Z",
     "iopub.status.idle": "2022-02-08T06:06:36.851890Z",
     "shell.execute_reply": "2022-02-08T06:06:36.852338Z",
     "shell.execute_reply.started": "2022-02-08T05:24:13.176608Z"
    },
    "papermill": {
     "duration": 0.0983,
     "end_time": "2022-02-08T06:06:36.852510",
     "exception": false,
     "start_time": "2022-02-08T06:06:36.754210",
     "status": "completed"
    },
    "tags": []
   },
   "outputs": [
    {
     "data": {
      "text/plain": [
       "{'Australia': 0.8387096774193549,\n",
       " 'South Africa': 0.8727272727272727,\n",
       " 'India': 0.7307692307692307,\n",
       " 'Pakistan': 0.7368421052631579,\n",
       " 'New Zealand': 0.7111111111111111,\n",
       " 'West Indies': 0.696969696969697,\n",
       " 'England': 0.7919463087248322,\n",
       " 'Sri Lanka': 0.7904761904761904,\n",
       " 'Zimbabwe': 0.8536585365853658,\n",
       " 'Bangladesh': 0.8059701492537313,\n",
       " 'Ireland': 1.0,\n",
       " 'Afghanistan': 1.0}"
      ]
     },
     "execution_count": 71,
     "metadata": {},
     "output_type": "execute_result"
    }
   ],
   "source": [
    "result_per = host_teams.copy()\n",
    "for key in result_per.keys():\n",
    "    result_per[key] = host_teams[key]/total_matches_home[key]\n",
    "result_per"
   ]
  },
  {
   "cell_type": "code",
   "execution_count": 72,
   "id": "3eb7a74f",
   "metadata": {
    "execution": {
     "iopub.execute_input": "2022-02-08T06:06:37.049393Z",
     "iopub.status.busy": "2022-02-08T06:06:37.032721Z",
     "iopub.status.idle": "2022-02-08T06:06:37.258376Z",
     "shell.execute_reply": "2022-02-08T06:06:37.257711Z",
     "shell.execute_reply.started": "2022-02-08T05:24:16.206671Z"
    },
    "papermill": {
     "duration": 0.317817,
     "end_time": "2022-02-08T06:06:37.258530",
     "exception": false,
     "start_time": "2022-02-08T06:06:36.940713",
     "status": "completed"
    },
    "tags": []
   },
   "outputs": [
    {
     "data": {
      "image/png": "[encoded data removed]",
      "text/plain": [
       "<Figure size 1296x576 with 1 Axes>"
      ]
     },
     "metadata": {
      "needs_background": "light"
     },
     "output_type": "display_data"
    }
   ],
   "source": [
    "x = np.array(list(result_per.keys()))\n",
    "y = np.array(list(result_per.values()))\n",
    "plt.figure(figsize = (18,8))\n",
    "plt.bar(x, y, color = 'green')\n",
    "sns.set_style('ticks')\n",
    "plt.show()"
   ]
  },
  {
   "cell_type": "markdown",
   "id": "44261c1e",
   "metadata": {
    "papermill": {
     "duration": 0.087074,
     "end_time": "2022-02-08T06:06:37.435497",
     "exception": false,
     "start_time": "2022-02-08T06:06:37.348423",
     "status": "completed"
    },
    "tags": []
   },
   "source": [
    "## Almost everyone\n",
    "### The more te bowler friendly the pitch the more are chances for a win lose outcome\n"
   ]
  },
  {
   "cell_type": "markdown",
   "id": "53820c87",
   "metadata": {
    "papermill": {
     "duration": 0.087358,
     "end_time": "2022-02-08T06:06:37.611584",
     "exception": false,
     "start_time": "2022-02-08T06:06:37.524226",
     "status": "completed"
    },
    "tags": []
   },
   "source": [
    "# <span style = \"color :blue;\">Conclusion</span>"
   ]
  },
  {
   "cell_type": "markdown",
   "id": "8082aa63",
   "metadata": {
    "papermill": {
     "duration": 0.08888,
     "end_time": "2022-02-08T06:06:37.788799",
     "exception": false,
     "start_time": "2022-02-08T06:06:37.699919",
     "status": "completed"
    },
    "tags": []
   },
   "source": [
    "## we had a very small data set in terms of features. so we cannot derive a lot of inference from this dataset.whatever seemed possible for me i did, feel free to comment are edit this notebook and make your own projects"
   ]
  },
  {
   "cell_type": "markdown",
   "id": "07d40891",
   "metadata": {
    "papermill": {
     "duration": 0.088543,
     "end_time": "2022-02-08T06:06:37.966234",
     "exception": false,
     "start_time": "2022-02-08T06:06:37.877691",
     "status": "completed"
    },
    "tags": []
   },
   "source": [
    "## <span style = \"color: red; font-size: 40px;\">Thank you </span>"
   ]
  },
  {
   "cell_type": "markdown",
   "id": "b3593869",
   "metadata": {
    "papermill": {
     "duration": 0.087102,
     "end_time": "2022-02-08T06:06:38.141389",
     "exception": false,
     "start_time": "2022-02-08T06:06:38.054287",
     "status": "completed"
    },
    "tags": []
   },
   "source": []
  }
 ],
 "metadata": {
  "kernelspec": {
   "display_name": "Python 3",
   "language": "python",
   "name": "python3"
  },
  "language_info": {
   "codemirror_mode": {
    "name": "ipython",
    "version": 3
   },
   "file_extension": ".py",
   "mimetype": "text/x-python",
   "name": "python",
   "nbconvert_exporter": "python",
   "pygments_lexer": "ipython3",
   "version": "3.7.12"
  },
  "papermill": {
   "default_parameters": {},
   "duration": 36.052475,
   "end_time": "2022-02-08T06:06:38.938742",
   "environment_variables": {},
   "exception": null,
   "input_path": "__notebook__.ipynb",
   "output_path": "__notebook__.ipynb",
   "parameters": {},
   "start_time": "2022-02-08T06:06:02.886267",
   "version": "2.3.3"
  }
 },
 "nbformat": 4,
 "nbformat_minor": 5
}
